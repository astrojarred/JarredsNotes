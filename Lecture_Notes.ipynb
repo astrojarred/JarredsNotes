{
 "cells": [
  {
   "cell_type": "markdown",
   "metadata": {},
   "source": [
    "# Programming for Astrophysics — Lecture notes\n",
    "**Jarred Green**\n",
    "\n",
    "**astrojarred@gmail.com**\n",
    "\n",
    "## Contents:\n",
    "  ### Lecture 1 — Setting up\n",
    "    1. Markdown introduction\n",
    "    2. Writing code in Jupyter\n",
    "    3. Basic UNIX Commands\n",
    "  ### Lecture 2 — Introduction to UNIX commands\n",
    "    1. Pipes and chaining\n",
    "    2. Wildcards\n",
    "    3. Basic Scripting\n",
    "    4. Arrays\n",
    "    5. Grep\n",
    "    6. Find\n",
    "    7. Substitute Strings\n",
    "  ### Lecture 3 — Introduction to Git\n",
    "    1. Create repository on Github\n",
    "    2. Github Version Control\n",
    "    3. Git commands\n",
    "  ### Lecture 4 — Introduction to Python!\n",
    "    1. Clone Dario's Repository\n",
    "    2. Command aliases\n",
    "    3. Introduction to Python!\n",
    "  ### Lecture 5 — Introduction to Python II + Plotting\n",
    "    1. Tuples\n",
    "    2. Dictionaries\n",
    "    3. Control Flow\n",
    "    4. Loops\n",
    "    5. Functions\n",
    "    6. Classes\n",
    "    7. Modules\n",
    "    8. Try and Accept\n",
    "    9. Plotting"
   ]
  },
  {
   "cell_type": "markdown",
   "metadata": {
    "collapsed": true
   },
   "source": [
    "# Lecture 1 — Setting up\n",
    "### January 9, 2017 (Morning)\n",
    "\n",
    "### Before we start:\n",
    "1. Install Anaconda v. 2.7\n",
    "2. Create a git account\n",
    "3. Understand how to run Jupyter Notebook\n",
    "\n",
    "### Todo list—\n",
    "1. Markdown introduction\n",
    "2. Writing code in Jupyter\n",
    "3. Basic UNIX Commands\n",
    "\n",
    "## 1. Markdown introduction"
   ]
  },
  {
   "cell_type": "markdown",
   "metadata": {},
   "source": [
    "- Use markdown when you just want something to appear as nice text.\n",
    "- Great reference on github\n",
    "  - https://github.com/adam-p/markdown-here/wiki/Markdown-Cheatsheet"
   ]
  },
  {
   "cell_type": "markdown",
   "metadata": {},
   "source": [
    "### Headers\n",
    "#Main Header\n",
    "##Sub-header\n",
    "###Smaller Header\n",
    "####Sub sub header\n",
    "#####teehee"
   ]
  },
  {
   "cell_type": "markdown",
   "metadata": {},
   "source": [
    "### Shortcuts\n",
    "\n",
    "**Esc+M** --> Markdown\n",
    "\n",
    "**Esc+Y** --> Code\n",
    "\n",
    "**Shift+Return** --> Execute cell\n"
   ]
  },
  {
   "cell_type": "markdown",
   "metadata": {},
   "source": [
    "### Formatting\n",
    "\n",
    "**bold**\n",
    "\n",
    "*italic*\n",
    "\n",
    "***bold italic***\n",
    "\n",
    "~~strikethrough~~"
   ]
  },
  {
   "cell_type": "markdown",
   "metadata": {},
   "source": [
    "### Lists\n",
    "\n",
    "- Item 1\n",
    "- Item 2\n",
    "- Item 3\n",
    "  * item 3a\n",
    "  * item 3b\n",
    "  "
   ]
  },
  {
   "cell_type": "markdown",
   "metadata": {},
   "source": [
    "### Mathematics\n",
    "- put between dollar signs\n",
    "\n",
    "$10^2$\n",
    "\n",
    "$\\log 12 * x$\n",
    "\n",
    "$(a+b)/c$\n",
    "\n",
    "$\\frac{1}{2}$"
   ]
  },
  {
   "cell_type": "markdown",
   "metadata": {},
   "source": [
    "### Block Quotes\n",
    "\n",
    "> This is a block quote"
   ]
  },
  {
   "cell_type": "markdown",
   "metadata": {},
   "source": [
    "### Tables\n",
    "\n",
    "Markdown | Less | Pretty\n",
    "--- | --- | ---\n",
    "*Still* | `renders` | **nicely**\n",
    "1 | 2 | 3\n",
    "\n",
    "\n",
    "\n",
    "| Tables        | Are           | Cool  |\n",
    "| ------------- |:-------------:| -----:|\n",
    "| col 3 is      | right-aligned | $1600 |\n",
    "| col 2 is      | centered      |   $12 |\n",
    "| zebra stripes | are neat      |    $1 |"
   ]
  },
  {
   "cell_type": "markdown",
   "metadata": {},
   "source": [
    "### Writing code\n",
    "\n",
    "- python example\n",
    "\n",
    "```python\n",
    "import sys\n",
    "```\n",
    "\n",
    "- bash example\n",
    "\n",
    "```bash\n",
    "cd /Home/....\n",
    "ls -l\n",
    "```\n",
    "\n",
    "\n",
    "\n",
    "\n"
   ]
  },
  {
   "cell_type": "markdown",
   "metadata": {},
   "source": [
    "## 2. Writing code in Jupyter\n",
    "\n",
    "- You can write bash also in here using the prefix \n",
    "  - %%bash\n",
    "- If you execute these it will print results!\n",
    "- See e.g. below"
   ]
  },
  {
   "cell_type": "code",
   "execution_count": 4,
   "metadata": {
    "collapsed": false
   },
   "outputs": [
    {
     "name": "stdout",
     "output_type": "stream",
     "text": [
      "Hello World\n"
     ]
    }
   ],
   "source": [
    "%%bash\n",
    "echo 'Hello World'"
   ]
  },
  {
   "cell_type": "code",
   "execution_count": 3,
   "metadata": {
    "collapsed": false
   },
   "outputs": [
    {
     "name": "stdout",
     "output_type": "stream",
     "text": [
      "jarredgreen\r\n"
     ]
    }
   ],
   "source": [
    "! whoami"
   ]
  },
  {
   "cell_type": "markdown",
   "metadata": {},
   "source": [
    "## 3. Basic UNIX Commands\n",
    "\n",
    "***Process code*** | ***Description*** | **Useful Arguements**\n",
    "---|---|---\n",
    "**ps -a** | shows all processes |\n",
    "**ps -u jarredgreen** | shows processes of my user and process numbers |\n",
    "**ps -u jarredgreen &#124; grep jup** | filters processes that contain \"jup\" and shows the process number |\n",
    "**kill -9 %i** | kills process #i |\n",
    "**bg** | runs a process in the background |\n",
    "**fg %i** | brings a process back to the forground |\n",
    "**whoami** | current user |\n",
    "**pwd** | shows current directory |\n",
    "**ls** | lists files in current directory | *-F* gives more details, *-a* shows hidden files too, *-t* orders by time, *-l* more info with privileges, \\*.extension shows files with that extension, \\* is a wildcard\n",
    "**cd /filepath** | change directory to filepath |\n",
    "**cd ..** | takes you to higher directory |\n",
    "**man 'command'** | shows instructions for 'command' |\n",
    "**mkdir 'folder name'** | creates a folder named 'folder name' |\n",
    "**rmdir 'folder'** | will remove empty folder |\n",
    "**mv** | moves a file or directory |\n",
    "**rm** | deletes a file |\n",
    "**history** | shows recent entries |\n",
    "**cp** | copies files | *cp \\*.txt directory* copies file to new name/place, *cp -r* copies recursively to another location\n",
    "**vim** or **nano** | document editor |"
   ]
  },
  {
   "cell_type": "markdown",
   "metadata": {},
   "source": [
    "___"
   ]
  },
  {
   "cell_type": "markdown",
   "metadata": {
    "collapsed": true
   },
   "source": [
    "# Lecture 2 — Introduction to UNIX commands\n",
    "### January 9, 2017 (Afternoon)\n",
    "\n",
    "- Continuing with bash / unix commands\n",
    "\n",
    "### Todo list—\n",
    "1. Pipes and chaining\n",
    "2. Wildcards\n",
    "3. Basic Scripting\n",
    "4. Arrays\n",
    "5. Grep\n",
    "6. Find\n",
    "7. Substitute Strings"
   ]
  },
  {
   "cell_type": "markdown",
   "metadata": {},
   "source": [
    "### 1. Pipes and chaining\n",
    "\n",
    "- **wc** shows charactercounts of files\n",
    "- **wc -w** shows wordcounts\n",
    "- **wc -l** shows line count"
   ]
  },
  {
   "cell_type": "code",
   "execution_count": 4,
   "metadata": {
    "collapsed": false
   },
   "outputs": [
    {
     "name": "stdout",
     "output_type": "stream",
     "text": [
      "     276     714    5797 Lecture 1-Copy1.ipynb\n",
      "     276     729    5885 Lecture 1.ipynb\n",
      "      46      85     807 Lecture 2.ipynb\n",
      "     598    1528   12489 total\n"
     ]
    }
   ],
   "source": [
    "%%bash\n",
    "wc *.ipynb"
   ]
  },
  {
   "cell_type": "code",
   "execution_count": 5,
   "metadata": {
    "collapsed": false
   },
   "outputs": [
    {
     "name": "stdout",
     "output_type": "stream",
     "text": [
      "     714 Lecture 1-Copy1.ipynb\n",
      "     729 Lecture 1.ipynb\n",
      "      85 Lecture 2.ipynb\n",
      "    1528 total\n"
     ]
    }
   ],
   "source": [
    "%%bash\n",
    "wc -w *.ipynb"
   ]
  },
  {
   "cell_type": "markdown",
   "metadata": {},
   "source": [
    "- Let's write the line counts to a file called \"lengths\""
   ]
  },
  {
   "cell_type": "code",
   "execution_count": 9,
   "metadata": {
    "collapsed": true
   },
   "outputs": [],
   "source": [
    "%%bash\n",
    "wc -l *.ipynb > lengths"
   ]
  },
  {
   "cell_type": "markdown",
   "metadata": {},
   "source": [
    "- Now let's add more information to the file using the double **>>**"
   ]
  },
  {
   "cell_type": "code",
   "execution_count": 10,
   "metadata": {
    "collapsed": true
   },
   "outputs": [],
   "source": [
    "%%bash\n",
    "wc -w *.ipynb >> lengths"
   ]
  },
  {
   "cell_type": "code",
   "execution_count": 14,
   "metadata": {
    "collapsed": false
   },
   "outputs": [],
   "source": [
    "more lengths"
   ]
  },
  {
   "cell_type": "markdown",
   "metadata": {},
   "source": [
    "**more** shows an overview of the file, **cat** prints all contents."
   ]
  },
  {
   "cell_type": "code",
   "execution_count": 13,
   "metadata": {
    "collapsed": false
   },
   "outputs": [
    {
     "name": "stdout",
     "output_type": "stream",
     "text": [
      "     276 Lecture 1-Copy1.ipynb\n",
      "     276 Lecture 1.ipynb\n",
      "      46 Lecture 2.ipynb\n",
      "     598 total\n",
      "     714 Lecture 1-Copy1.ipynb\n",
      "     729 Lecture 1.ipynb\n",
      "      85 Lecture 2.ipynb\n",
      "    1528 total\n"
     ]
    }
   ],
   "source": [
    "%%bash\n",
    "cat lengths"
   ]
  },
  {
   "cell_type": "markdown",
   "metadata": {},
   "source": [
    "- Now let's try **sort**ing the file"
   ]
  },
  {
   "cell_type": "code",
   "execution_count": 16,
   "metadata": {
    "collapsed": false
   },
   "outputs": [],
   "source": [
    "%%bash\n",
    "sort -n lengths > sorted-lengths.txt"
   ]
  },
  {
   "cell_type": "code",
   "execution_count": 17,
   "metadata": {
    "collapsed": false
   },
   "outputs": [
    {
     "name": "stdout",
     "output_type": "stream",
     "text": [
      "      46 Lecture 2.ipynb\n",
      "      85 Lecture 2.ipynb\n",
      "     276 Lecture 1-Copy1.ipynb\n",
      "     276 Lecture 1.ipynb\n",
      "     598 total\n",
      "     714 Lecture 1-Copy1.ipynb\n",
      "     729 Lecture 1.ipynb\n",
      "    1528 total\n"
     ]
    }
   ],
   "source": [
    "%%bash\n",
    "cat sorted-lengths.txt"
   ]
  },
  {
   "cell_type": "markdown",
   "metadata": {},
   "source": [
    "- **head -n 1** and **tail -n 1** will print the first or the last line of the file\n",
    "  - -n means \"numerically\""
   ]
  },
  {
   "cell_type": "code",
   "execution_count": 20,
   "metadata": {
    "collapsed": false
   },
   "outputs": [
    {
     "name": "stdout",
     "output_type": "stream",
     "text": [
      "    1528 total\n"
     ]
    }
   ],
   "source": [
    "%%bash\n",
    "tail -n 1 sorted-lengths.txt"
   ]
  },
  {
   "cell_type": "code",
   "execution_count": 21,
   "metadata": {
    "collapsed": false
   },
   "outputs": [
    {
     "name": "stdout",
     "output_type": "stream",
     "text": [
      "      46 Lecture 2.ipynb\n"
     ]
    }
   ],
   "source": [
    "%%bash\n",
    "head -n 1 sorted-lengths.txt"
   ]
  },
  {
   "cell_type": "markdown",
   "metadata": {},
   "source": [
    "- **you can use pipes to chain commands**\n",
    "- the following says\n",
    "  - print line counts of files ending in .ipynb | then sort those entries numerically and > export to a text file"
   ]
  },
  {
   "cell_type": "code",
   "execution_count": 26,
   "metadata": {
    "collapsed": true
   },
   "outputs": [],
   "source": [
    "%%bash\n",
    "wc -l *.ipynb | sort -n > newsort.txt"
   ]
  },
  {
   "cell_type": "code",
   "execution_count": 28,
   "metadata": {
    "collapsed": false
   },
   "outputs": [
    {
     "name": "stdout",
     "output_type": "stream",
     "text": [
      "      46 Lecture 2.ipynb\n",
      "     276 Lecture 1-Copy1.ipynb\n",
      "     276 Lecture 1.ipynb\n",
      "     598 total\n"
     ]
    }
   ],
   "source": [
    "%%bash\n",
    "cat newsort.txt"
   ]
  },
  {
   "cell_type": "markdown",
   "metadata": {},
   "source": [
    "- now let's just create some files for the sake of this example"
   ]
  },
  {
   "cell_type": "code",
   "execution_count": 34,
   "metadata": {
    "collapsed": false
   },
   "outputs": [],
   "source": [
    "%%bash\n",
    "echo 'first line\n",
    "second line\n",
    "third line' > lines.ipynb"
   ]
  },
  {
   "cell_type": "code",
   "execution_count": 51,
   "metadata": {
    "collapsed": true
   },
   "outputs": [],
   "source": [
    "%%bash\n",
    "echo 'lion\n",
    "panther\n",
    "person\n",
    "tiger' > animals.txt"
   ]
  },
  {
   "cell_type": "markdown",
   "metadata": {},
   "source": [
    "- can we find the second smallest file in length in one line of code?"
   ]
  },
  {
   "cell_type": "code",
   "execution_count": 55,
   "metadata": {
    "collapsed": false
   },
   "outputs": [
    {
     "name": "stdout",
     "output_type": "stream",
     "text": [
      "       4 animals.ipynb\n"
     ]
    }
   ],
   "source": [
    "%%bash\n",
    "wc -l *.ipynb"
   ]
  },
  {
   "cell_type": "code",
   "execution_count": 57,
   "metadata": {
    "collapsed": false
   },
   "outputs": [
    {
     "name": "stdout",
     "output_type": "stream",
     "text": [
      "       3 lines.ipynb\n",
      "       4 animals.ipynb\n",
      "      46 Lecture 2.ipynb\n",
      "     276 Lecture 1-Copy1.ipynb\n",
      "     551 Lecture 1.ipynb\n",
      "     880 total\n"
     ]
    }
   ],
   "source": [
    "%%bash\n",
    "wc -l *.ipynb | sort -n"
   ]
  },
  {
   "cell_type": "code",
   "execution_count": 58,
   "metadata": {
    "collapsed": false
   },
   "outputs": [
    {
     "name": "stdout",
     "output_type": "stream",
     "text": [
      "       3 lines.ipynb\n",
      "       4 animals.ipynb\n"
     ]
    }
   ],
   "source": [
    "%%bash\n",
    "wc -l *.ipynb | sort -n | head -2"
   ]
  },
  {
   "cell_type": "code",
   "execution_count": 59,
   "metadata": {
    "collapsed": false
   },
   "outputs": [
    {
     "name": "stdout",
     "output_type": "stream",
     "text": [
      "       4 animals.ipynb\n"
     ]
    }
   ],
   "source": [
    "%%bash\n",
    "wc -l *.ipynb | sort -n | head -2 | tail -1"
   ]
  },
  {
   "cell_type": "markdown",
   "metadata": {},
   "source": [
    "- **we did it!**"
   ]
  },
  {
   "cell_type": "markdown",
   "metadata": {},
   "source": [
    "### 2. Wildcards"
   ]
  },
  {
   "cell_type": "markdown",
   "metadata": {},
   "source": [
    "**command** | **meaning**\n",
    "--- | ---\n",
    "\\* | any string of any length\n",
    "? | any single character\n",
    "[a-r] | everything from a-r\n",
    "\\*[1-9]\\* | everthing with a number from 1-9 in the middle (FROM)\n",
    "[!a] | everyhing excluding \"a\" (NOT)\n",
    "{\\*doc, \\*pdf} | lets you pick multiple things (OR)\n",
    "[^a] | beginning of line\n",
    "[\\$a] | a at end of line"
   ]
  },
  {
   "cell_type": "markdown",
   "metadata": {},
   "source": [
    "- **tr**, **cut**, **uniq** commands"
   ]
  },
  {
   "cell_type": "markdown",
   "metadata": {},
   "source": [
    "**command** | **meaning** | **extensions**\n",
    "--- | --- | ---\n",
    "**tr** | translates characters | **-s** squeezes characters together, \n",
    "**cut** | divide a file into separate parts | **cut -c x-y** selects charaters in position x-y\n",
    "**uniq** | show only unique values |\n",
    "\n",
    "**uniq**\n",
    "- See example below for uniq"
   ]
  },
  {
   "cell_type": "code",
   "execution_count": 62,
   "metadata": {
    "collapsed": true
   },
   "outputs": [],
   "source": [
    "%%bash\n",
    "#make a file with numbers:\n",
    "echo '1\n",
    "1\n",
    "2\n",
    "3\n",
    "5\n",
    "8\n",
    "13' > numbers.txt"
   ]
  },
  {
   "cell_type": "code",
   "execution_count": 63,
   "metadata": {
    "collapsed": false
   },
   "outputs": [
    {
     "name": "stdout",
     "output_type": "stream",
     "text": [
      "1\n",
      "1\n",
      "2\n",
      "3\n",
      "5\n",
      "8\n",
      "13\n"
     ]
    }
   ],
   "source": [
    "%%bash\n",
    "cat numbers.txt"
   ]
  },
  {
   "cell_type": "code",
   "execution_count": 64,
   "metadata": {
    "collapsed": false
   },
   "outputs": [
    {
     "name": "stdout",
     "output_type": "stream",
     "text": [
      "1\n",
      "2\n",
      "3\n",
      "5\n",
      "8\n",
      "13\n"
     ]
    }
   ],
   "source": [
    "%%bash\n",
    "cat numbers.txt | sort -n | uniq"
   ]
  },
  {
   "cell_type": "markdown",
   "metadata": {
    "collapsed": true
   },
   "source": [
    "**cut:**"
   ]
  },
  {
   "cell_type": "code",
   "execution_count": 1,
   "metadata": {
    "collapsed": false
   },
   "outputs": [
    {
     "name": "stdout",
     "output_type": "stream",
     "text": [
      "6 Lecture 1-Copy1.\n",
      "7 Lecture 1.ipynb\n",
      "6 Lecture 2.ipynb\n",
      "4 animals.ipynb\n",
      "3 lines.ipynb\n",
      "6 total\n"
     ]
    }
   ],
   "source": [
    "%%bash\n",
    "wc -l *.ipynb | cut -c 8-25"
   ]
  },
  {
   "cell_type": "markdown",
   "metadata": {},
   "source": [
    "**tr:**\n",
    "\n",
    "-squeeze:"
   ]
  },
  {
   "cell_type": "code",
   "execution_count": 2,
   "metadata": {
    "collapsed": false
   },
   "outputs": [
    {
     "name": "stdout",
     "output_type": "stream",
     "text": [
      "A beautiful morning in Innsbruck\n"
     ]
    }
   ],
   "source": [
    "%%bash\n",
    "echo 'A beautiful     morning in Innsbruck' | tr -s \" \""
   ]
  },
  {
   "cell_type": "code",
   "execution_count": 5,
   "metadata": {
    "collapsed": false
   },
   "outputs": [
    {
     "name": "stdout",
     "output_type": "stream",
     "text": [
      "A beautiful morning in Innsbruck\n"
     ]
    }
   ],
   "source": [
    "%%bash\n",
    "echo 'A beautifulllll morning in Innsbruck' | tr -s \"l\""
   ]
  },
  {
   "cell_type": "markdown",
   "metadata": {},
   "source": [
    "**tr \"x\" \"y\"** replaces x with y\n",
    "\n",
    "- in this example \"/n\" means a \"line break\"\n",
    "- so, replace line break with spaces:"
   ]
  },
  {
   "cell_type": "code",
   "execution_count": 7,
   "metadata": {
    "collapsed": false
   },
   "outputs": [
    {
     "name": "stdout",
     "output_type": "stream",
     "text": [
      "A beautiful morning in Innsbruck "
     ]
    }
   ],
   "source": [
    "%%bash\n",
    "echo 'A\n",
    "beautiful\n",
    "morning\n",
    "in\n",
    "Innsbruck' | tr \"\\n\" \" \""
   ]
  },
  {
   "cell_type": "markdown",
   "metadata": {},
   "source": [
    "### 3. Basic Scripting"
   ]
  },
  {
   "cell_type": "markdown",
   "metadata": {},
   "source": [
    "- Let's write a simple script (using a loop) to replicate the **ls** function"
   ]
  },
  {
   "cell_type": "code",
   "execution_count": 15,
   "metadata": {
    "collapsed": false
   },
   "outputs": [
    {
     "name": "stdout",
     "output_type": "stream",
     "text": [
      "This file is: Lecture 1-Copy1.ipynb\n",
      "This file is: Lecture 1.ipynb\n",
      "This file is: Lecture 2.ipynb\n",
      "This file is: animals.ipynb\n",
      "This file is: lines.ipynb\n"
     ]
    }
   ],
   "source": [
    "%%bash\n",
    "#this code replicates the basic ls function on unix, listing files in the directory\n",
    "for filename in *.ipynb\n",
    "    do\n",
    "        echo 'This file is: '$filename\n",
    "    done"
   ]
  },
  {
   "cell_type": "markdown",
   "metadata": {},
   "source": [
    "- Can we do the same thing, saving it to a file?"
   ]
  },
  {
   "cell_type": "code",
   "execution_count": 64,
   "metadata": {
    "collapsed": false
   },
   "outputs": [],
   "source": [
    "%%bash\n",
    "#what does the line belwo do? Shibang line\n",
    "echo '#/usr/bin/env bash\n",
    "echo 'This takes all .txt files, prints the filename, and prints the last five lines!'\n",
    "for filename in *.txt\n",
    "do\n",
    "    echo \"This file is: \"$filename\n",
    "    tail -5 $filename\n",
    "done' > script.sh\n",
    "#save file to a script\n",
    "chmod +x script.sh\n",
    "# makes the file executable"
   ]
  },
  {
   "cell_type": "code",
   "execution_count": 65,
   "metadata": {
    "collapsed": false
   },
   "outputs": [
    {
     "name": "stdout",
     "output_type": "stream",
     "text": [
      "script.sh*\n"
     ]
    }
   ],
   "source": [
    "%%bash\n",
    "ls -F script.sh"
   ]
  },
  {
   "cell_type": "code",
   "execution_count": 66,
   "metadata": {
    "collapsed": false
   },
   "outputs": [
    {
     "name": "stdout",
     "output_type": "stream",
     "text": [
      "This takes all .txt files, prints the filename, and prints the last five lines!\n",
      "This file is: newsort.txt\n",
      "      46 Lecture 2.ipynb\n",
      "     276 Lecture 1-Copy1.ipynb\n",
      "     276 Lecture 1.ipynb\n",
      "     598 total\n",
      "This file is: numbers.txt\n",
      "2\n",
      "3\n",
      "5\n",
      "8\n",
      "13\n",
      "This file is: sorted-lengths.txt\n",
      "     276 Lecture 1.ipynb\n",
      "     598 total\n",
      "     714 Lecture 1-Copy1.ipynb\n",
      "     729 Lecture 1.ipynb\n",
      "    1528 total\n"
     ]
    }
   ],
   "source": [
    "%%bash\n",
    "./script.sh"
   ]
  },
  {
   "cell_type": "markdown",
   "metadata": {},
   "source": [
    "**- Or you can do it all in one line:**"
   ]
  },
  {
   "cell_type": "code",
   "execution_count": 72,
   "metadata": {
    "collapsed": true
   },
   "outputs": [],
   "source": [
    "# I missed this code, but he somehow used semi-colons to separate the lines"
   ]
  },
  {
   "cell_type": "markdown",
   "metadata": {},
   "source": [
    "### 4. Arrays"
   ]
  },
  {
   "cell_type": "markdown",
   "metadata": {},
   "source": [
    "- The following is how you should format arrays in bash"
   ]
  },
  {
   "cell_type": "code",
   "execution_count": 2,
   "metadata": {
    "collapsed": false
   },
   "outputs": [],
   "source": [
    "ARRAY=(\"val1\"\"val2\"\"val3\")\n",
    "\n",
    "#or...\n",
    "ARRAY=(\n",
    "\"val1\"\n",
    "\"val2\"\n",
    "\"val3\"\n",
    ")"
   ]
  },
  {
   "cell_type": "markdown",
   "metadata": {},
   "source": [
    "- Ok not really sure what the next one is doing, and it's hard to make comments in there"
   ]
  },
  {
   "cell_type": "code",
   "execution_count": 3,
   "metadata": {
    "collapsed": true
   },
   "outputs": [],
   "source": [
    "%%bash\n",
    "echo '#/usr/bin/env bash' > script3.sh\n",
    "echo '\n",
    "dir0=\"/dir/\"\n",
    "ARRAY=(\n",
    "\"val1\"\n",
    "\"val2\"\n",
    "\"val3\"\n",
    ")\n",
    "echo \"2nd value is \"${ARRAY[1]}\n",
    "for name in \"${ARRAY[@]}\"\n",
    "do\n",
    "    echo $dir0$name\n",
    "done\n",
    "' >> script3.sh\n",
    "\n",
    "chmod +x script3.sh"
   ]
  },
  {
   "cell_type": "code",
   "execution_count": 4,
   "metadata": {
    "collapsed": false
   },
   "outputs": [
    {
     "name": "stdout",
     "output_type": "stream",
     "text": [
      "2nd value is val2\n",
      "/dir/val1\n",
      "/dir/val2\n",
      "/dir/val3\n"
     ]
    }
   ],
   "source": [
    "%%bash\n",
    "./script3.sh"
   ]
  },
  {
   "cell_type": "markdown",
   "metadata": {},
   "source": [
    "### 5. Grep"
   ]
  },
  {
   "cell_type": "markdown",
   "metadata": {},
   "source": [
    "**grep** is great at searching through documents for you\n",
    "Below we created a document with a few words:\n",
    "\n",
    "**Arguments** | **function**\n",
    "--- | ---\n",
    "-n | gives line number\n",
    "-i | ignore case\n",
    "-w | the expression is searched for as a word\n",
    "-v | gives inverse\n",
    "-e | specify a pattern used during search"
   ]
  },
  {
   "cell_type": "code",
   "execution_count": 73,
   "metadata": {
    "collapsed": true
   },
   "outputs": [],
   "source": [
    "%%bash\n",
    "echo 'mars\n",
    "earth\n",
    "jupiter\n",
    "saturn\n",
    "venus' > planets_list.txt"
   ]
  },
  {
   "cell_type": "markdown",
   "metadata": {},
   "source": [
    "- see the below examples"
   ]
  },
  {
   "cell_type": "code",
   "execution_count": 75,
   "metadata": {
    "collapsed": false
   },
   "outputs": [
    {
     "name": "stdout",
     "output_type": "stream",
     "text": [
      "jupiter\n",
      "saturn\n",
      "venus\n"
     ]
    }
   ],
   "source": [
    "%%bash\n",
    "grep u planets_list.txt"
   ]
  },
  {
   "cell_type": "code",
   "execution_count": 77,
   "metadata": {
    "collapsed": false
   },
   "outputs": [
    {
     "name": "stdout",
     "output_type": "stream",
     "text": [
      "saturn\n"
     ]
    }
   ],
   "source": [
    "%%bash\n",
    "grep ur planets_list.txt"
   ]
  },
  {
   "cell_type": "code",
   "execution_count": 78,
   "metadata": {
    "collapsed": false
   },
   "outputs": [
    {
     "name": "stdout",
     "output_type": "stream",
     "text": [
      "jupiter\n",
      "saturn\n"
     ]
    }
   ],
   "source": [
    "%%bash\n",
    "grep \"t.r\" planets_list.txt"
   ]
  },
  {
   "cell_type": "code",
   "execution_count": 81,
   "metadata": {
    "collapsed": false
   },
   "outputs": [
    {
     "name": "stdout",
     "output_type": "stream",
     "text": [
      "saturn\n",
      "venus\n"
     ]
    }
   ],
   "source": [
    "%%bash\n",
    "grep \"u[rs]\" planets_list.txt"
   ]
  },
  {
   "cell_type": "markdown",
   "metadata": {},
   "source": [
    "- these things like \"t.r\" are called \"regular expressions\" and have many rules and can be quite complex.\n",
    "- see the wikipedia page for all different (crazy) rules\n",
    "  - https://en.wikipedia.org/wiki/Regular_expression"
   ]
  },
  {
   "cell_type": "markdown",
   "metadata": {},
   "source": [
    "### Examples\n",
    "- from wikipedia\n",
    "\n",
    "**Regular Expressions**\n",
    "\n",
    "\n",
    "**Example** | **Function**\n",
    "--- | ---\n",
    ".at | matches any three-character string ending with \"at\", including \"hat\", \"cat\", and \"bat\"\n",
    "[hc]at | matches \"hat\" and \"cat\".\n",
    "[^b]at | matches all strings matched by .at except \"bat\".\n",
    "[^hc]at | matches all strings matched by .at other than \"hat\" and \"cat\".\n",
    "^[hc]at | matches \"hat\" and \"cat\", but only at the beginning of the string or line.\n",
    "[hc]at$ | matches \"hat\" and \"cat\", but only at the end of the string or line.\n",
    "\\[.\\] | matches any single character surrounded by \"[\" and \"]\" since the brackets are escaped, for example: \"[a]\" and \"[b]\".\n",
    "s.* | matches s followed by zero or more characters, for example: \"s\" and \"saw\" and \"seed\"."
   ]
  },
  {
   "cell_type": "markdown",
   "metadata": {},
   "source": [
    "### 6. Find\n",
    "\n",
    "**find** will walk through a directory in all sub-folders and find files\n",
    "\n",
    "**Arguments** | **function**\n",
    "--- | ---\n",
    "-type d | looks for directories"
   ]
  },
  {
   "cell_type": "code",
   "execution_count": 91,
   "metadata": {
    "collapsed": false
   },
   "outputs": [
    {
     "name": "stdout",
     "output_type": "stream",
     "text": [
      ".\n",
      "./.DS_Store\n",
      "./.ipynb_checkpoints\n",
      "./.ipynb_checkpoints/Lecture 1-checkpoint.ipynb\n",
      "./.ipynb_checkpoints/Lecture 1-Copy1-checkpoint.ipynb\n",
      "./.ipynb_checkpoints/Lecture 2-checkpoint.ipynb\n",
      "./animals.ipynb\n",
      "./Lecture 1-Copy1.ipynb\n",
      "./Lecture 1.ipynb\n",
      "./Lecture 2.ipynb\n",
      "./lines.ipynb\n",
      "./newsort.txt\n",
      "./numbers.txt\n",
      "./planets_list.txt\n",
      "./script.sh\n",
      "./script3.sh\n",
      "./sorted-lengths.txt\n"
     ]
    }
   ],
   "source": [
    "%%bash\n",
    "find ."
   ]
  },
  {
   "cell_type": "code",
   "execution_count": 96,
   "metadata": {
    "collapsed": false
   },
   "outputs": [
    {
     "name": "stdout",
     "output_type": "stream",
     "text": [
      "..\n",
      "../Advanced Mathematics\n",
      "../Advanced Mathematics/Lecture\n",
      "../Advanced Mathematics/Lecture/Lecture Notes\n",
      "../Advanced Mathematics/Lecture/Study Guides\n",
      "../Advanced Mathematics/Proseminar\n",
      "../Advanced Mathematics/Proseminar/Exams\n",
      "../Advanced Mathematics/Proseminar/PS Exercise Sheets\n",
      "../Advanced Mathematics/Proseminar/PS Homework\n",
      "../Advanced Mathematics/Proseminar/PS Homework/Solutions\n",
      "../Advanced Mathematics/Proseminar/PS Homework/Solutions/From Professors\n",
      "../Advanced Mathematics/Proseminar/PS Homework/Solutions/Javier Solutions\n",
      "../Baysean\n",
      "../Concepts of Physics\n",
      "../Concepts of Physics/Lectures\n",
      "../Concepts of Physics/Lectures/Lecture Homework\n",
      "../Concepts of Physics/Lectures/Lecture Homework/HW1 Resources\n",
      "../Concepts of Physics/Lectures/Lecture Homework/Javier Solutions\n",
      "../Concepts of Physics/Lectures/Lecture Notes\n",
      "../Concepts of Physics/Lectures/Resources\n",
      "../Concepts of Physics/Lectures/Resources/Adrian's Notes\n",
      "../Concepts of Physics/Lectures/Resources/Agata's Quantum Notes\n",
      "../Concepts of Physics/Lectures/Resources/All Previous Assignments and Exams\n",
      "../Concepts of Physics/Lectures/Resources/Atomic Notes\n",
      "../Concepts of Physics/Lectures/Resources/Study Guides\n",
      "../Concepts of Physics/Proseminar\n",
      "../Concepts of Physics/Proseminar/Homework Scans\n",
      "../Concepts of Physics/Proseminar/PS Excercise Sheets\n",
      "../Concepts of Physics/Proseminar/PS Excercise Sheets/Solutions\n",
      "../Concepts of Physics/Proseminar/PS Excercise Sheets/Solutions/Javier Solutions\n",
      "../Concepts of Physics/Proseminar/PS Excercise Sheets/Solutions/Javier Solutions/Tutorial_Solutions_exercise6\n",
      "../Concepts of Physics/Proseminar/PS Homework\n",
      "../Concepts of Physics/Proseminar/PS Homework/Solutions\n",
      "../Concepts of Physics/Proseminar/PS Homework/Solutions/From Professors\n",
      "../Concepts of Physics/Proseminar/PS Homework/Solutions/Javier Solutions\n",
      "../Extragalactic\n",
      "../Extragalactic/Lecture\n",
      "../Extragalactic/Lecture/Lecture Notes\n",
      "../Extragalactic/Proseminar\n",
      "../Extragalactic/Proseminar/Exercises\n",
      "../Extragalactic/Proseminar/Homework\n",
      "../Extragalactic/Proseminar/Homework/Assignments\n",
      "../Extragalactic/Proseminar/Homework/Corrected\n",
      "../Extragalactic/Proseminar/Homework/Submitted\n",
      "../Extragalactic/Proseminar/Resources\n",
      "../Forms\n",
      "../Galactic\n",
      "../Galactic/Proseminar\n",
      "../Galactic/Proseminar/Exercise Sheets\n",
      "../Galactic/Proseminar/Homework\n",
      "../Galactic/Proseminar/Homework/Assignments\n",
      "../Galactic/Proseminar/Homework/Corrected\n",
      "../Galactic/Proseminar/Homework/Submitted\n",
      "../German\n",
      "../Programming\n",
      "../Programming/.ipynb_checkpoints\n"
     ]
    }
   ],
   "source": [
    "%%bash\n",
    "#list all directories starting from the one above\n",
    "find .. -type d"
   ]
  },
  {
   "cell_type": "code",
   "execution_count": 99,
   "metadata": {
    "collapsed": false
   },
   "outputs": [
    {
     "name": "stdout",
     "output_type": "stream",
     "text": [
      "       4 ../Programming/newsort.txt\n",
      "       7 ../Programming/numbers.txt\n",
      "       5 ../Programming/planets_list.txt\n",
      "       8 ../Programming/sorted-lengths.txt\n",
      "      24 total\n"
     ]
    }
   ],
   "source": [
    "%%bash\n",
    "# you can also use find as an argument for another command\n",
    "wc -l $(find .. -name '*.txt')"
   ]
  },
  {
   "cell_type": "markdown",
   "metadata": {},
   "source": [
    "- Finally, we can see how to pass arguments to find"
   ]
  },
  {
   "cell_type": "code",
   "execution_count": 100,
   "metadata": {
    "collapsed": false
   },
   "outputs": [
    {
     "name": "stdout",
     "output_type": "stream",
     "text": [
      "../Programming\n"
     ]
    }
   ],
   "source": [
    "%%bash\n",
    "#not sure what this one is doing, look further into it\n",
    "find .. -name '*.txt' -exec dirname {} \\; | uniq"
   ]
  },
  {
   "cell_type": "markdown",
   "metadata": {},
   "source": [
    "### 7. Substitute Strings\n",
    "\n",
    "ways to do this include **sed**, **awk**, and **perl**\n",
    "\n",
    "**sed** usually does this trick\n",
    "\n",
    "-in the following case it's kind of like find and replace"
   ]
  },
  {
   "cell_type": "code",
   "execution_count": 101,
   "metadata": {
    "collapsed": false
   },
   "outputs": [
    {
     "name": "stdout",
     "output_type": "stream",
     "text": [
      "The cat walks on the roof\n"
     ]
    }
   ],
   "source": [
    "%%bash\n",
    "echo 'The cat runs on the roof' | sed 's/run/walk/'"
   ]
  },
  {
   "cell_type": "markdown",
   "metadata": {},
   "source": [
    "- In this eample we will use perl to do this"
   ]
  },
  {
   "cell_type": "code",
   "execution_count": 108,
   "metadata": {
    "collapsed": false
   },
   "outputs": [
    {
     "name": "stdout",
     "output_type": "stream",
     "text": [
      "This file is rotten\n",
      "This file is fresh\n"
     ]
    }
   ],
   "source": [
    "%%bash\n",
    "echo 'This file is rotten' > rotten.txt\n",
    "cat rotten.txt\n",
    "perl -pi -e 's/rotten/fresh/' rotten.txt\n",
    "# -e implies that this is a regular expression\n",
    "cat rotten.txt"
   ]
  },
  {
   "cell_type": "markdown",
   "metadata": {
    "collapsed": true
   },
   "source": [
    "-------"
   ]
  },
  {
   "cell_type": "markdown",
   "metadata": {},
   "source": [
    "# Lecture 3 — Introduction to Git\n",
    "### January 10, 2017 (Morning)\n",
    "\n",
    "### Todo list—\n",
    "1. Create repository on Github\n",
    "2. Github Version Control\n",
    "3. Git commands\n",
    "\n",
    "## 1. Github Repository\n",
    "- just go to the website and make a new repository \n",
    "\n",
    "## 2. Github Version Control\n",
    "- keeps track of every change in your code\n",
    "- backs up remotely\n",
    "- allows for remote collaboration\n",
    "- shows who has made each edit\n",
    "\n",
    "#### Terminology\n",
    "\n",
    "**Word** | **Definition**\n",
    "--- | ---\n",
    "Repository | where source code is stored\n",
    "Checkout | download a local copy of the files\n",
    "Commit | saving modification\n",
    "Master | the current release version of the file\n",
    "Branch | a working copy of the master that you can edit\n",
    "Merge | merging the current branch with the current master\n",
    "Conflict | when you must pick between code from the master or the branch\n",
    "Forking | creating a new branch\n",
    "Clone | making a copy of the repository (and history) on the local machine\n",
    "Pull | grab code from cloud\n",
    "Push | upload local code to the repository\n",
    "\n",
    "#### Git Configuration on the local machine\n",
    "\n",
    "```bash\n",
    "git config --global user.name \"your name\"\n",
    "git config --global user.email \"your email\"\n",
    "git config --global color.ui \"auto\"\n",
    "git config --global core.editor \"vim\"\n",
    "```"
   ]
  },
  {
   "cell_type": "code",
   "execution_count": 1,
   "metadata": {
    "collapsed": false
   },
   "outputs": [
    {
     "name": "stdout",
     "output_type": "stream",
     "text": [
      "credential.helper=osxkeychain\n",
      "user.name=astrojarred\n",
      "user.email=astrojarred@gmail.com\n",
      "core.editor=vim\n",
      "color.ui=auto\n"
     ]
    }
   ],
   "source": [
    "%%bash\n",
    "git config --list"
   ]
  },
  {
   "cell_type": "markdown",
   "metadata": {},
   "source": [
    "## 3. Git Commands"
   ]
  },
  {
   "cell_type": "markdown",
   "metadata": {},
   "source": [
    "**Make a Repository**\n",
    "\n",
    "```bash\n",
    "mkdir Repos\n",
    "cd Repos\n",
    "git init Repos\n",
    "```\n",
    "\n",
    "\n",
    "**Clone a repository**\n",
    "\n",
    "```bash\n",
    "git clone https://github.com/User/Your_Repository\n",
    "```\n",
    "\n",
    "**Check the status of the repository**\n",
    "\n",
    "```bash\n",
    "git status\n",
    "```\n",
    "\n",
    "**Adding a file**\n",
    "```bash\n",
    "git add filename\n",
    "git status\n",
    "```\n",
    "\n",
    "-add all files\n",
    "```bash\n",
    "git add .\n",
    "```\n",
    "\n",
    "**Committing a change**\n",
    "```bash\n",
    "git commit -m \"your comments\" filename\n",
    "```\n",
    "\n",
    "**Uploading changes to github**\n",
    "```bash\n",
    "git push\n",
    "```\n",
    "\n",
    "**Seeing log of changes**\n",
    "```bash\n",
    "git log\n",
    "```\n",
    "\n",
    "----"
   ]
  },
  {
   "cell_type": "markdown",
   "metadata": {
    "collapsed": true
   },
   "source": [
    "#### Let's add and remove a temporary file as a test:\n",
    "\n",
    "- Create a file and commit\n",
    "\n",
    "```bash\n",
    "echo '' > tmpfile\n",
    "```\n",
    "\n",
    "```bash\n",
    "git add tempfile\n",
    "git commit -m \"Created a tmpfile\" tmpfile\n",
    "```\n",
    "\n",
    "- Delete the file and commit\n",
    "\n",
    "```bash\n",
    "rm tmpfile\n",
    "```\n",
    "\n",
    "```bash\n",
    "git commit -m \"Deleted the tmpfile\" tmpfile\n",
    "```\n",
    "\n",
    "- Check the log\n",
    "\n",
    "```bash\n",
    "git log\n",
    "```\n",
    "\n",
    "- Checks just the most recent log item\n",
    "\n",
    "```bash\n",
    "git log -1\n",
    "```"
   ]
  },
  {
   "cell_type": "markdown",
   "metadata": {},
   "source": [
    "# Lecture 4  — Introduction to Python\n",
    "### January 11, 2017 (Morning)\n",
    "\n",
    "### Todo list—\n",
    "1. Clone Dario's Repository\n",
    "2. Command aliases\n",
    "3. Introduction to Python!\n",
    "\n",
    "## 1. Cloning Repositories\n",
    "\n",
    "```bash\n",
    "git clone http://www.github.com/darioflute/CS4A.git\n",
    "```\n",
    "\n",
    "- now cd into the folder\n",
    "```bash\n",
    "cd CS4A\n",
    "```\n",
    "\n",
    "- now try to update the repository\n",
    "- it should say \"up to date\"\n",
    "```bash\n",
    "git pull origin master\n",
    "```"
   ]
  },
  {
   "cell_type": "markdown",
   "metadata": {},
   "source": [
    "## 2. Command aliases\n",
    "\n",
    "```bash\n",
    "cd ~\n",
    "vim bash.rc\n",
    "```\n",
    "\n",
    "- add the line\n",
    "\n",
    "```bash\n",
    "alias jn = \"jupyter notebook\"\n",
    "```\n",
    "\n",
    "## 3. Introduction to Python\n",
    "\n",
    "- This will create a basic python script:"
   ]
  },
  {
   "cell_type": "code",
   "execution_count": 4,
   "metadata": {
    "collapsed": false
   },
   "outputs": [
    {
     "name": "stdout",
     "output_type": "stream",
     "text": [
      "Overwriting hello-world.py\n"
     ]
    }
   ],
   "source": [
    "%%writefile hello-world.py\n",
    "#!/usr/bin/env python\n",
    "print (\"Hello world!\")"
   ]
  },
  {
   "cell_type": "markdown",
   "metadata": {},
   "source": [
    "- now let's make it executable\n",
    "```bash\n",
    "!chmod +x hello-world.py\n",
    "```"
   ]
  },
  {
   "cell_type": "markdown",
   "metadata": {},
   "source": [
    "- Writing using other character sets\n",
    "\n",
    "```python\n",
    "writefile hello-world-in-german.py\n",
    "#!/usr/bin/env python\n",
    "# -*- coding: UTF-8 -*-\n",
    "\n",
    "print(\" Meine Völker !\")\n",
    "```"
   ]
  },
  {
   "cell_type": "markdown",
   "metadata": {},
   "source": [
    "### Importing Packages\n",
    "\n",
    "- Allows you to import other commands\n",
    "- The math package has mathematical functions for example\n",
    "\n",
    "```python\n",
    "import math\n",
    "x = math.cos( 2 * math.pi )\n",
    "```\n",
    "\n",
    "**OR** for easier reading\n",
    "\n",
    "```python\n",
    "from math import cos,pi\n",
    "x = cos( 2 * pi )\n",
    "print(x)\n",
    "```"
   ]
  },
  {
   "cell_type": "markdown",
   "metadata": {},
   "source": [
    "### Examening Packages\n",
    "\n",
    "```python\n",
    "import math\n",
    "print(dir(math))\n",
    "```"
   ]
  },
  {
   "cell_type": "code",
   "execution_count": 7,
   "metadata": {
    "collapsed": false
   },
   "outputs": [
    {
     "name": "stdout",
     "output_type": "stream",
     "text": [
      "['__doc__', '__file__', '__name__', '__package__', 'acos', 'acosh', 'asin', 'asinh', 'atan', 'atan2', 'atanh', 'ceil', 'copysign', 'cos', 'cosh', 'degrees', 'e', 'erf', 'erfc', 'exp', 'expm1', 'fabs', 'factorial', 'floor', 'fmod', 'frexp', 'fsum', 'gamma', 'hypot', 'isinf', 'isnan', 'ldexp', 'lgamma', 'log', 'log10', 'log1p', 'modf', 'pi', 'pow', 'radians', 'sin', 'sinh', 'sqrt', 'tan', 'tanh', 'trunc']\n"
     ]
    }
   ],
   "source": [
    "import math\n",
    "print(dir(math))"
   ]
  },
  {
   "cell_type": "code",
   "execution_count": 8,
   "metadata": {
    "collapsed": false
   },
   "outputs": [
    {
     "name": "stdout",
     "output_type": "stream",
     "text": [
      "Help on built-in function log in module math:\n",
      "\n",
      "log(...)\n",
      "    log(x[, base])\n",
      "    \n",
      "    Return the logarithm of x to the given base.\n",
      "    If the base not specified, returns the natural logarithm (base e) of x.\n",
      "\n"
     ]
    }
   ],
   "source": [
    "import math\n",
    "help(math.log)"
   ]
  },
  {
   "cell_type": "markdown",
   "metadata": {},
   "source": [
    "- Some useful pagkages include os, sys, math, and more"
   ]
  },
  {
   "cell_type": "markdown",
   "metadata": {},
   "source": [
    "### Variables\n",
    "\n",
    "```python\n",
    "x = 10.\n",
    "print (x)\n",
    "print ( type(x) )\n",
    "```\n",
    "\n",
    "- adding a '.' at the end defines it as a float:"
   ]
  },
  {
   "cell_type": "code",
   "execution_count": 10,
   "metadata": {
    "collapsed": false
   },
   "outputs": [
    {
     "name": "stdout",
     "output_type": "stream",
     "text": [
      "10.0\n",
      "<type 'float'>\n"
     ]
    }
   ],
   "source": [
    "x = 10.\n",
    "print (x)\n",
    "print ( type(x) )"
   ]
  },
  {
   "cell_type": "markdown",
   "metadata": {},
   "source": [
    "#### Variable types\n",
    "\n",
    "example | type\n",
    "--- | ---\n",
    "10. | float\n",
    "True | bool\n",
    "10 - 10j | complex\n"
   ]
  },
  {
   "cell_type": "code",
   "execution_count": 11,
   "metadata": {
    "collapsed": false
   },
   "outputs": [
    {
     "data": {
      "text/plain": [
       "True"
      ]
     },
     "execution_count": 11,
     "metadata": {},
     "output_type": "execute_result"
    }
   ],
   "source": [
    "# let's check if a type is what we want\n",
    "x = 1.0\n",
    "type(x) is float"
   ]
  },
  {
   "cell_type": "code",
   "execution_count": 12,
   "metadata": {
    "collapsed": false
   },
   "outputs": [
    {
     "name": "stdout",
     "output_type": "stream",
     "text": [
      "True\n"
     ]
    }
   ],
   "source": [
    "# we can even save the type as a bool\n",
    "x = 1.0\n",
    "typex = type(x) is float\n",
    "print typex"
   ]
  },
  {
   "cell_type": "code",
   "execution_count": 13,
   "metadata": {
    "collapsed": false
   },
   "outputs": [
    {
     "data": {
      "text/plain": [
       "True"
      ]
     },
     "execution_count": 13,
     "metadata": {},
     "output_type": "execute_result"
    }
   ],
   "source": [
    "# there is also a function for this\n",
    "isinstance(x, float)"
   ]
  },
  {
   "cell_type": "markdown",
   "metadata": {},
   "source": [
    "### Type Casting"
   ]
  },
  {
   "cell_type": "code",
   "execution_count": 40,
   "metadata": {
    "collapsed": false
   },
   "outputs": [
    {
     "name": "stdout",
     "output_type": "stream",
     "text": [
      "10.0\n",
      "10\n",
      "['H', 'e', 'l', 'l', 'o', ' ', 'W', 'o', 'r', 'l', 'd']\n"
     ]
    }
   ],
   "source": [
    "x = 10.\n",
    "print (x)\n",
    "x = int(x)\n",
    "print (x)\n",
    "print( list(s))"
   ]
  },
  {
   "cell_type": "markdown",
   "metadata": {},
   "source": [
    "### Basic Operations\n",
    "\n",
    "- to the power  \\*\\*\n",
    "- division /\n",
    "- integer division //\n",
    "- or, and, not, >, <, >=, <=, =="
   ]
  },
  {
   "cell_type": "code",
   "execution_count": 18,
   "metadata": {
    "collapsed": false
   },
   "outputs": [
    {
     "name": "stdout",
     "output_type": "stream",
     "text": [
      "True\n",
      "False\n",
      "False\n"
     ]
    }
   ],
   "source": [
    "print (True or False)\n",
    "print (True and False)\n",
    "print (not True)"
   ]
  },
  {
   "cell_type": "markdown",
   "metadata": {},
   "source": [
    "- arrays\n",
    "\n",
    "```python\n",
    "list1 = [1,2,3,4]\n",
    "```\n"
   ]
  },
  {
   "cell_type": "markdown",
   "metadata": {},
   "source": [
    "### Strings\n",
    "\n",
    "- just text"
   ]
  },
  {
   "cell_type": "code",
   "execution_count": 29,
   "metadata": {
    "collapsed": false
   },
   "outputs": [
    {
     "name": "stdout",
     "output_type": "stream",
     "text": [
      "Hello World\n",
      "<type 'str'>\n",
      "Hello Friends\n",
      "13\n",
      "o\n",
      "Hello\n",
      "Hello\n",
      " World\n",
      "Hello World\n",
      "HloWrd\n"
     ]
    }
   ],
   "source": [
    "s = \"Hello World\"\n",
    "print(s)\n",
    "print( type(s) )\n",
    "len(s)                                     #length\n",
    "s2 = s.replace(\"World\" , \"Friends\")        #replaces strings\n",
    "print(s2)\n",
    "print(len(s2))\n",
    "print(s2[4])                               # counting starts at 0\n",
    "print(s[0:5])                              # print characters 0-4\n",
    "print(s[:5])                               # same as above\n",
    "print(s[5:])                               # 5th till the end\n",
    "#print(s(5:-1))                             # 5th to second to last\n",
    "print(s[:])                                # : is all chars\n",
    "print(s[::2])                              # prints in steps of 2"
   ]
  },
  {
   "cell_type": "markdown",
   "metadata": {},
   "source": [
    "- **string formatting**"
   ]
  },
  {
   "cell_type": "markdown",
   "metadata": {},
   "source": [
    "### Lists"
   ]
  },
  {
   "cell_type": "code",
   "execution_count": 30,
   "metadata": {
    "collapsed": false
   },
   "outputs": [
    {
     "data": {
      "text/plain": [
       "list"
      ]
     },
     "execution_count": 30,
     "metadata": {},
     "output_type": "execute_result"
    }
   ],
   "source": [
    "# Create a list\n",
    "l = [1,2,3,4]\n",
    "type(l)"
   ]
  },
  {
   "cell_type": "code",
   "execution_count": 32,
   "metadata": {
    "collapsed": false
   },
   "outputs": [
    {
     "name": "stdout",
     "output_type": "stream",
     "text": [
      "3\n",
      "4\n"
     ]
    }
   ],
   "source": [
    "# print certain elements\n",
    "print (l[2])\n",
    "print (l[-1])"
   ]
  },
  {
   "cell_type": "markdown",
   "metadata": {},
   "source": [
    "**note: a list is not an array**\n",
    "- you can put different types of things in there\n",
    "- you can also nest lists"
   ]
  },
  {
   "cell_type": "code",
   "execution_count": 34,
   "metadata": {
    "collapsed": true
   },
   "outputs": [],
   "source": [
    "# look at all the different types inside!\n",
    "l2 = [1, 2j, \"Hello\", True]"
   ]
  },
  {
   "cell_type": "markdown",
   "metadata": {},
   "source": [
    "**Range**"
   ]
  },
  {
   "cell_type": "code",
   "execution_count": 39,
   "metadata": {
    "collapsed": false
   },
   "outputs": [
    {
     "name": "stdout",
     "output_type": "stream",
     "text": [
      "[0, 1, 2, 3, 4]\n",
      "[4, 5, 6]\n",
      "[0, 4, 8, 12, 16]\n"
     ]
    }
   ],
   "source": [
    "print( range(5) )\n",
    "print( range(4,7) )\n",
    "print( range(0,20, 4))\n"
   ]
  },
  {
   "cell_type": "markdown",
   "metadata": {},
   "source": [
    "### More list operations\n",
    "\n",
    "- Check out this example from https://learnpythonthehardway.org/book/ex38.html\n"
   ]
  },
  {
   "cell_type": "code",
   "execution_count": 14,
   "metadata": {
    "collapsed": false
   },
   "outputs": [
    {
     "name": "stdout",
     "output_type": "stream",
     "text": [
      "Wait there are not 10 things in that list. Let's fix that.\n",
      "Adding:  Boy\n",
      "There are 7 items now.\n",
      "Adding:  Girl\n",
      "There are 8 items now.\n",
      "Adding:  Banana\n",
      "There are 9 items now.\n",
      "Adding:  Corn\n",
      "There are 10 items now.\n",
      "There we go:  ['Apples', 'Oranges', 'Crows', 'Telephone', 'Light', 'Sugar', 'Boy', 'Girl', 'Banana', 'Corn']\n",
      "Let's do some things with stuff.\n",
      "Oranges\n",
      "Corn\n",
      "Corn\n",
      "Apples Oranges Crows Telephone Light Sugar Boy Girl Banana\n",
      "Telephone#Light\n"
     ]
    }
   ],
   "source": [
    "ten_things = \"Apples Oranges Crows Telephone Light Sugar\"\n",
    "\n",
    "print \"Wait there are not 10 things in that list. Let's fix that.\"\n",
    "\n",
    "stuff = ten_things.split(' ')\n",
    "more_stuff = [\"Day\", \"Night\", \"Song\", \"Frisbee\", \"Corn\", \"Banana\", \"Girl\", \"Boy\"]\n",
    "\n",
    "while len(stuff) != 10:\n",
    "    next_one = more_stuff.pop()\n",
    "    print \"Adding: \", next_one\n",
    "    stuff.append(next_one)\n",
    "    print \"There are %d items now.\" % len(stuff)\n",
    "\n",
    "print \"There we go: \", stuff\n",
    "\n",
    "print \"Let's do some things with stuff.\"\n",
    "\n",
    "print stuff[1]\n",
    "print stuff[-1] # whoa! fancy\n",
    "print stuff.pop()\n",
    "print ' '.join(stuff) # what? cool!\n",
    "print '#'.join(stuff[3:5]) # super stellar!\n"
   ]
  },
  {
   "cell_type": "markdown",
   "metadata": {
    "collapsed": true
   },
   "source": [
    "# Lecture 5  — Introduction to Python, pt. 2\n",
    "### January 11, 2017 (Afternoon)\n",
    "\n",
    "### Todo list—\n",
    "1. Tuples\n",
    "2. Dictionaries\n",
    "3. Control Flow\n",
    "4. Loops\n",
    "5. Functions\n",
    "6. Classes\n",
    "7. Modules\n",
    "8. Try and Accept\n",
    "\n",
    "## 1. Tuples\n",
    "\n",
    "- a tuple is a sequence of immutable Python objects. Tuples are sequences, just like lists.\n",
    "- the differences between tuples and lists are, the tuples cannot be changed unlike lists and tuples use parentheses, whereas lists use square brackets.\n",
    "- they are like lists, but you can not editable\n",
    "- use parenthesis\n",
    "\n",
    "```python\n",
    "point = (10,20)\n",
    "```"
   ]
  },
  {
   "cell_type": "code",
   "execution_count": 2,
   "metadata": {
    "collapsed": false
   },
   "outputs": [
    {
     "name": "stdout",
     "output_type": "stream",
     "text": [
      "(10, 20)\n"
     ]
    }
   ],
   "source": [
    "point = (10,20)\n",
    "print(point)"
   ]
  },
  {
   "cell_type": "code",
   "execution_count": 4,
   "metadata": {
    "collapsed": false
   },
   "outputs": [
    {
     "name": "stdout",
     "output_type": "stream",
     "text": [
      "10\n",
      "20\n"
     ]
    }
   ],
   "source": [
    "x, y = point\n",
    "print(x)\n",
    "print(y)"
   ]
  },
  {
   "cell_type": "markdown",
   "metadata": {},
   "source": [
    "## 2. Dictionaries\n",
    "\n",
    "- Like lists, but each element is a pair\n",
    "\n",
    "```python\n",
    "stuff = {'name': 'Zed', 'age': 39, 'height': 6 * 12 + 2}\n",
    "```\n",
    "\n",
    "- see the below example for uses of dictionaries from https://learnpythonthehardway.org/book/ex39.html"
   ]
  },
  {
   "cell_type": "code",
   "execution_count": 13,
   "metadata": {
    "collapsed": false
   },
   "outputs": [
    {
     "name": "stdout",
     "output_type": "stream",
     "text": [
      "{'California': 'CA', 'Michigan': 'MI', 'New York': 'NY', 'Florida': 'FL', 'Oregon': 'OR'}\n",
      "----------\n",
      "NY State has:  New York\n",
      "OR State has:  Portland\n",
      "----------\n",
      "Michigan's abbreviation is:  MI\n",
      "Florida's abbreviation is:  FL\n",
      "----------\n",
      "Michigan has:  Detroit\n",
      "Florida has:  Jacksonville\n",
      "----------\n",
      "California is abbreviated CA\n",
      "Michigan is abbreviated MI\n",
      "New York is abbreviated NY\n",
      "Florida is abbreviated FL\n",
      "Oregon is abbreviated OR\n",
      "----------\n",
      "FL has the city Jacksonville\n",
      "CA has the city San Francisco\n",
      "MI has the city Detroit\n",
      "OR has the city Portland\n",
      "NY has the city New York\n",
      "----------\n",
      "California state is abbreviated CA and has city San Francisco\n",
      "Michigan state is abbreviated MI and has city Detroit\n",
      "New York state is abbreviated NY and has city New York\n",
      "Florida state is abbreviated FL and has city Jacksonville\n",
      "Oregon state is abbreviated OR and has city Portland\n",
      "----------\n",
      "Sorry, no Texas.\n",
      "The city for the state 'TX' is: Does Not Exist\n"
     ]
    }
   ],
   "source": [
    "states = {\n",
    "    'Oregon': 'OR',\n",
    "    'Florida': 'FL',\n",
    "    'California': 'CA',\n",
    "    'New York': 'NY',\n",
    "    'Michigan': 'MI'\n",
    "}\n",
    "\n",
    "print(states)\n",
    "\n",
    "#make a second dictionary\n",
    "\n",
    "cities = {\n",
    "    'CA': 'San Francisco',\n",
    "    'MI': 'Detroit',\n",
    "    'FL': 'Jacksonville'\n",
    "}\n",
    "\n",
    "# add some more cities\n",
    "cities['NY'] = 'New York'\n",
    "cities['OR'] = 'Portland'\n",
    "\n",
    "# print out some cities\n",
    "print '-' * 10\n",
    "print \"NY State has: \", cities['NY']\n",
    "print \"OR State has: \", cities['OR']\n",
    "\n",
    "# print some states\n",
    "print '-' * 10\n",
    "print \"Michigan's abbreviation is: \", states['Michigan']\n",
    "print \"Florida's abbreviation is: \", states['Florida']\n",
    "\n",
    "# do it by using the state then cities dict\n",
    "print '-' * 10\n",
    "print \"Michigan has: \", cities[states['Michigan']]\n",
    "print \"Florida has: \", cities[states['Florida']]\n",
    "\n",
    "# print every state abbreviation\n",
    "print '-' * 10\n",
    "for state, abbrev in states.items():\n",
    "    print \"%s is abbreviated %s\" % (state, abbrev)\n",
    "\n",
    "# print every city in state\n",
    "print '-' * 10\n",
    "for abbrev, city in cities.items():\n",
    "    print \"%s has the city %s\" % (abbrev, city)\n",
    "\n",
    "# now do both at the same time\n",
    "print '-' * 10\n",
    "for state, abbrev in states.items():\n",
    "    print \"%s state is abbreviated %s and has city %s\" % (\n",
    "        state, abbrev, cities[abbrev])\n",
    "\n",
    "print '-' * 10\n",
    "# safely get a abbreviation by state that might not be there\n",
    "state = states.get('Texas')\n",
    "\n",
    "if not state:\n",
    "    print \"Sorry, no Texas.\"\n",
    "\n",
    "# get a city with a default value\n",
    "city = cities.get('TX', 'Does Not Exist')\n",
    "print \"The city for the state 'TX' is: %s\" % city\n"
   ]
  },
  {
   "cell_type": "markdown",
   "metadata": {},
   "source": [
    "## 3. Control Flow\n",
    "\n",
    "- **if, elif, else**: the three main conditional words\n",
    "  - **if** — put first- if x is true, do the following\n",
    "  - **elif** — if the last thing wasn't true, do this, you can put as many as these as you want\n",
    "  - **else** — if none of the above stuff was true, do this.  (It's kind of like the last resort.)\n",
    "- Check out Dario's example below:"
   ]
  },
  {
   "cell_type": "code",
   "execution_count": 17,
   "metadata": {
    "collapsed": false
   },
   "outputs": [
    {
     "name": "stdout",
     "output_type": "stream",
     "text": [
      "Statement 1 is true\n",
      "I am very sorry\n"
     ]
    }
   ],
   "source": [
    "#change around statements 1 and 2 from True to False, and see what results you get!\n",
    "\n",
    "statement1 = True\n",
    "statement2 = False\n",
    "if statement1:                     # This is equilvalent to saying \"If statement1 is True, do the following\"\n",
    "    print ('Statement 1 is true')\n",
    "    print ('I am very sorry')\n",
    "elif statement2 == False:          # This is like saying \"if the last thing wasn't true try this instead\"\n",
    "    print (\"Nothing\")\n",
    "else:                              # This is like saying \"because none of the previous stuff was true, just do this\"\n",
    "    print (\"Statement 1 is false\")"
   ]
  },
  {
   "cell_type": "markdown",
   "metadata": {},
   "source": [
    "- Check out this fun example from https://learnpythonthehardway.org/book/ex31.html\n",
    "  - I've added some notes to here"
   ]
  },
  {
   "cell_type": "code",
   "execution_count": 18,
   "metadata": {
    "collapsed": false
   },
   "outputs": [
    {
     "name": "stdout",
     "output_type": "stream",
     "text": [
      "You enter a dark room with two doors.  Do you go through door #1 or door #2?\n",
      "> 1\n",
      "There's a giant bear here eating a cheese cake.  What do you do?\n",
      "1. Take the cake.\n",
      "2. Scream at the bear.\n",
      "> 1\n",
      "The bear eats your face off.  Good job!\n"
     ]
    }
   ],
   "source": [
    "print \"You enter a dark room with two doors.  Do you go through door #1 or door #2?\"\n",
    "\n",
    "door = raw_input(\"> \") #this lets you enter your own text\n",
    "\n",
    "if door == \"1\":\n",
    "    print \"There's a giant bear here eating a cheese cake.  What do you do?\"\n",
    "    print \"1. Take the cake.\"\n",
    "    print \"2. Scream at the bear.\"\n",
    "\n",
    "    bear = raw_input(\"> \")\n",
    "\n",
    "    if bear == \"1\":\n",
    "        print \"The bear eats your face off.  Good job!\"\n",
    "    elif bear == \"2\":\n",
    "        print \"The bear eats your legs off.  Good job!\"\n",
    "    else:\n",
    "        print \"Well, doing %s is probably better.  Bear runs away.\" % bear\n",
    "\n",
    "elif door == \"2\":\n",
    "    print \"You stare into the endless abyss at Cthulhu's retina.\"\n",
    "    print \"1. Blueberries.\"\n",
    "    print \"2. Yellow jacket clothespins.\"\n",
    "    print \"3. Understanding revolvers yelling melodies.\"\n",
    "\n",
    "    insanity = raw_input(\"> \")\n",
    "\n",
    "    if insanity == \"1\" or insanity == \"2\":\n",
    "        print \"Your body survives powered by a mind of jello.  Good job!\"\n",
    "    else:\n",
    "        print \"The insanity rots your eyes into a pool of muck.  Good job!\"\n",
    "\n",
    "else:\n",
    "    print \"You stumble around and fall on a knife and die.  Good job!\"\n"
   ]
  },
  {
   "cell_type": "markdown",
   "metadata": {},
   "source": [
    "## 4. Loops\n",
    "\n",
    "### for loops\n",
    "\n",
    "- will repeat the same action over and over\n",
    "\n",
    "```python\n",
    "for x in [1,2,3]:\n",
    "    print[x]\n",
    "    \n",
    "    1\n",
    "    2\n",
    "    3\n",
    "```"
   ]
  },
  {
   "cell_type": "code",
   "execution_count": 21,
   "metadata": {
    "collapsed": false
   },
   "outputs": [
    {
     "name": "stdout",
     "output_type": "stream",
     "text": [
      "-3\n",
      "-2\n",
      "-1\n",
      "0\n",
      "1\n",
      "2\n"
     ]
    }
   ],
   "source": [
    "# Here's another example:\n",
    "\n",
    "for x in range(-3,3):\n",
    "    print(x)"
   ]
  },
  {
   "cell_type": "code",
   "execution_count": 22,
   "metadata": {
    "collapsed": false
   },
   "outputs": [
    {
     "name": "stdout",
     "output_type": "stream",
     "text": [
      "This is count 1\n",
      "This is count 2\n",
      "This is count 3\n",
      "This is count 4\n",
      "This is count 5\n",
      "A fruit of type: apples\n",
      "A fruit of type: oranges\n",
      "A fruit of type: pears\n",
      "A fruit of type: apricots\n",
      "I got 1\n",
      "I got 'pennies'\n",
      "I got 2\n",
      "I got 'dimes'\n",
      "I got 3\n",
      "I got 'quarters'\n",
      "Adding 0 to the list.\n",
      "Adding 1 to the list.\n",
      "Adding 2 to the list.\n",
      "Adding 3 to the list.\n",
      "Adding 4 to the list.\n",
      "Adding 5 to the list.\n",
      "Element was: 0\n",
      "Element was: 1\n",
      "Element was: 2\n",
      "Element was: 3\n",
      "Element was: 4\n",
      "Element was: 5\n"
     ]
    }
   ],
   "source": [
    "# Here's a simple example from https://learnpythonthehardway.org/book/ex32.html\n",
    "\n",
    "the_count = [1, 2, 3, 4, 5]\n",
    "fruits = ['apples', 'oranges', 'pears', 'apricots']\n",
    "change = [1, 'pennies', 2, 'dimes', 3, 'quarters']\n",
    "\n",
    "# this first kind of for-loop goes through a list\n",
    "for number in the_count:\n",
    "    print \"This is count %d\" % number\n",
    "\n",
    "# same as above\n",
    "for fruit in fruits:\n",
    "    print \"A fruit of type: %s\" % fruit\n",
    "\n",
    "# also we can go through mixed lists too\n",
    "# notice we have to use %r since we don't know what's in it\n",
    "for i in change:\n",
    "    print \"I got %r\" % i\n",
    "\n",
    "# we can also build lists, first start with an empty one\n",
    "elements = []\n",
    "\n",
    "# then use the range function to do 0 to 5 counts\n",
    "for i in range(0, 6):\n",
    "    print \"Adding %d to the list.\" % i\n",
    "    # append is a function that lists understand\n",
    "    elements.append(i)\n",
    "\n",
    "# now we can print them out too\n",
    "for i in elements:\n",
    "    print \"Element was: %d\" % i"
   ]
  },
  {
   "cell_type": "code",
   "execution_count": 23,
   "metadata": {
    "collapsed": false
   },
   "outputs": [
    {
     "name": "stdout",
     "output_type": "stream",
     "text": [
      "[0, 1, 4, 9, 16, 25, 36, 49]\n"
     ]
    }
   ],
   "source": [
    "# let's make a list of perfect squares\n",
    "# this is cool because we're doing it all in one line\n",
    "squares = [x**2 for x in range(0,8)]\n",
    "print(squares)"
   ]
  },
  {
   "cell_type": "markdown",
   "metadata": {},
   "source": [
    "### while loops\n",
    "\n",
    "- loops something until a condition is satisfied"
   ]
  },
  {
   "cell_type": "code",
   "execution_count": 24,
   "metadata": {
    "collapsed": false
   },
   "outputs": [
    {
     "name": "stdout",
     "output_type": "stream",
     "text": [
      "0\n",
      "1\n",
      "2\n",
      "3\n",
      "4\n"
     ]
    }
   ],
   "source": [
    "i = 0\n",
    "\n",
    "while i < 5:  # as long as i is less than 5, do this thing over and over\n",
    "    print(i)\n",
    "    i +=1     # set i to what it was before, but add one"
   ]
  },
  {
   "cell_type": "markdown",
   "metadata": {},
   "source": [
    "## 5. Functions\n",
    "\n",
    "**Functions do three things:**\n",
    "\n",
    "- They name pieces of code the way variables name strings and numbers.\n",
    "- They take arguments the way your scripts take argv.\n",
    "- Using 1 and 2 they let you make your own \"mini-scripts\" or \"tiny commands.\"\n",
    "\n",
    "You can create a function by using the word def in Python. I'm going to have you make four different functions that work like your scripts, and I'll then show you how each one is related.\n",
    "\n",
    "The simple one below just prints the word \"test\""
   ]
  },
  {
   "cell_type": "code",
   "execution_count": 26,
   "metadata": {
    "collapsed": false
   },
   "outputs": [
    {
     "name": "stdout",
     "output_type": "stream",
     "text": [
      "test\n"
     ]
    }
   ],
   "source": [
    "def func0():\n",
    "    print(\"test\")\n",
    "    \n",
    "func0()"
   ]
  },
  {
   "cell_type": "code",
   "execution_count": 32,
   "metadata": {
    "collapsed": false
   },
   "outputs": [
    {
     "name": "stdout",
     "output_type": "stream",
     "text": [
      "You wrote aaa\n",
      "Help on function func1 in module __main__:\n",
      "\n",
      "func1(s)\n",
      "    this is our second test function\n",
      "    s is the thing that will print\n",
      "\n"
     ]
    }
   ],
   "source": [
    "def func1(s):\n",
    "    '''this is our second test function\n",
    "    s is the thing that will print'''\n",
    "    print (\"You wrote \"+s)\n",
    "    \n",
    "func1(\"aaa\")\n",
    "\n",
    "help(func1)"
   ]
  },
  {
   "cell_type": "code",
   "execution_count": 33,
   "metadata": {
    "collapsed": false
   },
   "outputs": [
    {
     "name": "stdout",
     "output_type": "stream",
     "text": [
      "16\n"
     ]
    }
   ],
   "source": [
    "def square(x):\n",
    "    \"\"\"Return the square of x\"\"\"\n",
    "    return x ** 2\n",
    "\n",
    "# we set a to equal our function \n",
    "a = square(4)\n",
    "print(a)"
   ]
  },
  {
   "cell_type": "code",
   "execution_count": 38,
   "metadata": {
    "collapsed": false
   },
   "outputs": [
    {
     "name": "stdout",
     "output_type": "stream",
     "text": [
      "(9.0, 27.0, 81.0)\n",
      "(9.0, 27.0, 81.0)\n",
      "117.0\n"
     ]
    }
   ],
   "source": [
    "def powers(x):\n",
    "    \"\"\"Return the first three powers of x\"\"\"\n",
    "    return x ** 2., x ** 3., x ** 4.\n",
    "\n",
    "# we set a to equal our function \n",
    "print(powers(3))\n",
    "\n",
    "# the following saves the three results from the above function as three separate variables, named p2, p3, and p4\n",
    "# so now we can use them separately\n",
    "p2,p3,p4 = powers(3.)\n",
    "print(p2,p3,p4)\n",
    "print(p2 + p3 + p4)"
   ]
  },
  {
   "cell_type": "code",
   "execution_count": 46,
   "metadata": {
    "collapsed": false
   },
   "outputs": [
    {
     "name": "stdout",
     "output_type": "stream",
     "text": [
      "I am in debug mode\n",
      "4\n"
     ]
    }
   ],
   "source": [
    "def myfunc(x, p=2, debug=False):\n",
    "    if debug:\n",
    "        print (\"I am in debug mode\")\n",
    "        return x ** p\n",
    "    else:\n",
    "        print (x ** p)\n",
    "    \n",
    "print( myfunc(2,p=2,debug=True))"
   ]
  },
  {
   "cell_type": "markdown",
   "metadata": {},
   "source": [
    "### Lambda functions\n",
    "\n",
    "- The only advantage of this is the fact that you can use it on one line\n",
    "- It's used a lot mainy because it's very compact"
   ]
  },
  {
   "cell_type": "code",
   "execution_count": 47,
   "metadata": {
    "collapsed": false
   },
   "outputs": [
    {
     "name": "stdout",
     "output_type": "stream",
     "text": [
      "4\n"
     ]
    }
   ],
   "source": [
    "fl = lambda x: x**2\n",
    "print (fl(2))"
   ]
  },
  {
   "cell_type": "markdown",
   "metadata": {},
   "source": [
    "## 6. Classes\n",
    "\n",
    "- Python is called an \"object-oriented programming language.\"\n",
    "- This means there is a construct in Python called a class that lets you structure your software in a particular way.  - Using classes, you can add consistency to your programs so that they can be used in a cleaner way.\n",
    "  - At least that's the theory...\n",
    "  - (https://learnpythonthehardway.org/book/ex40.html)\n",
    "  \n",
    "A class has variables, but also some fuctions that act on those variables.  All at the same time.\n",
    "\n",
    "See Dario's example below:"
   ]
  },
  {
   "cell_type": "code",
   "execution_count": 52,
   "metadata": {
    "collapsed": true
   },
   "outputs": [],
   "source": [
    "class Point:\n",
    "    '''\n",
    "    Simple class for representing a point in a Cartesian plane\n",
    "    '''\n",
    "    def __init__(self, x, y):\n",
    "        '''\n",
    "        Create a new point at x, y\n",
    "        '''\n",
    "        self.x = x\n",
    "        self.y = y\n",
    "    def translate(self, dx, dy):\n",
    "        '''\n",
    "        translates a point by dx and \n",
    "        '''\n",
    "        self.x += dx\n",
    "        self.y += dy\n",
    "    def __str__(self):\n",
    "        return(\"Point at [%f, %f]\" % (self.x, self.y))\n",
    "        "
   ]
  },
  {
   "cell_type": "code",
   "execution_count": 70,
   "metadata": {
    "collapsed": false
   },
   "outputs": [
    {
     "name": "stdout",
     "output_type": "stream",
     "text": [
      "Point at [0.000000, 0.000000]\n",
      "Point at [1.000000, -1.000000]\n"
     ]
    }
   ],
   "source": [
    "pt = Point(0,0)\n",
    "print(pt)\n",
    "\n",
    "pt.translate(1,-1)\n",
    "print(pt)"
   ]
  },
  {
   "cell_type": "markdown",
   "metadata": {},
   "source": [
    "## 7. Modules\n",
    "\n",
    "- Modules are like dictionaries\n",
    "- You know how a dictionary is created and used and that it is a way to map one thing to another. That means if you have a dictionary with a key \"apple\" and you want to get it then you do this:\n",
    "\n",
    "```python\n",
    "mystuff = {'apple': \"I AM APPLES!\"}\n",
    "print mystuff['apple']\n",
    "```\n",
    "\n",
    "Keep this idea of \"get X from Y\" in your head, and now think about modules. You've made a few so far, and you should know they are:\n",
    "\n",
    "1. A Python file with some functions or variables in it ..\n",
    "2. You import that file.\n",
    "3. And you can access the functions or variables in that module with the . (dot) operator."
   ]
  },
  {
   "cell_type": "code",
   "execution_count": 74,
   "metadata": {
    "collapsed": true
   },
   "outputs": [],
   "source": [
    "# this goes in mystuff.py\n",
    "def apple():\n",
    "    print \"I AM APPLES!\"\n",
    "\n",
    "# this is just a variable\n",
    "tangerine = \"Living reflection of a dream\""
   ]
  },
  {
   "cell_type": "markdown",
   "metadata": {},
   "source": [
    "## 8. Try and Except\n",
    "\n",
    "In Python errors are managed with a special language construct called \"Exceptions\". When errors occur exceptions can be raised, which interrupts the normal program flow and fallback to somewhere else in the code where the closest try-except statement is defined.\n",
    "To generate an exception we can use the raise statement, which takes an argument that must be an instance of the class BaseException or a class derived from it. "
   ]
  },
  {
   "cell_type": "code",
   "execution_count": 1,
   "metadata": {
    "collapsed": false
   },
   "outputs": [
    {
     "ename": "SyntaxError",
     "evalue": "invalid syntax (<ipython-input-1-d31d321c142f>, line 8)",
     "output_type": "error",
     "traceback": [
      "\u001b[0;36m  File \u001b[0;32m\"<ipython-input-1-d31d321c142f>\"\u001b[0;36m, line \u001b[0;32m8\u001b[0m\n\u001b[0;31m    \u001b[0m\n\u001b[0m    ^\u001b[0m\n\u001b[0;31mSyntaxError\u001b[0m\u001b[0;31m:\u001b[0m invalid syntax\n"
     ]
    }
   ],
   "source": [
    "\"\"\"test = \"Nuclear test\"\n",
    "\n",
    "try:\n",
    "    print('test')\n",
    "    # generates an error: the variable test is not defined\n",
    "    #etc\n",
    "    \n",
    "    \"\"\""
   ]
  },
  {
   "cell_type": "markdown",
   "metadata": {},
   "source": [
    "Ok to be honest I have no idea what the above is... oh well"
   ]
  },
  {
   "cell_type": "markdown",
   "metadata": {},
   "source": [
    "## 9. Plotting\n",
    "\n",
    "**See this guide for Dario's full tutorial on plotting with mathplotlib:            \n",
    "https://github.com/darioflute/CS4A/blob/master/Lecture-plotting.ipynb**\n",
    "\n",
    "- type the following line at the beginning\n",
    "- this is so that plots will show up inside Jupyter, I don't think you need it in your code\n",
    "\n",
    "```python\n",
    "%matplotlib inline\n",
    "```\n",
    "\n",
    "### Basic Plotting\n",
    "\n",
    "- when Dario adds his notes for plotting I will paste it here\n",
    "- the following command will import the module and name it plt"
   ]
  },
  {
   "cell_type": "code",
   "execution_count": 17,
   "metadata": {
    "collapsed": false
   },
   "outputs": [],
   "source": [
    "%matplotlib inline\n",
    "import matplotlib.pyplot as plt\n",
    "# numerical python = numpy\n",
    "import numpy as np"
   ]
  },
  {
   "cell_type": "code",
   "execution_count": 20,
   "metadata": {
    "collapsed": false
   },
   "outputs": [
    {
     "data": {
      "text/plain": [
       "[<matplotlib.lines.Line2D at 0x10cbff290>]"
      ]
     },
     "execution_count": 20,
     "metadata": {},
     "output_type": "execute_result"
    },
    {
     "name": "stderr",
     "output_type": "stream",
     "text": [
      "/Users/jarredgreen/anaconda/lib/python2.7/site-packages/matplotlib/font_manager.py:273: UserWarning: Matplotlib is building the font cache using fc-list. This may take a moment.\n",
      "  warnings.warn('Matplotlib is building the font cache using fc-list. This may take a moment.')\n"
     ]
    },
    {
     "data": {
      "image/png": "[encoded data removed]",
      "text/plain": [
       "<matplotlib.figure.Figure at 0x1045b35d0>"
      ]
     },
     "metadata": {},
     "output_type": "display_data"
    }
   ],
   "source": [
    "x = np.arange(0,1,0.1)\n",
    "y = x**2\n",
    "plt.plot(x,y)"
   ]
  },
  {
   "cell_type": "code",
   "execution_count": 23,
   "metadata": {
    "collapsed": false
   },
   "outputs": [
    {
     "data": {
      "image/png": "[encoded data removed]",
      "text/plain": [
       "<matplotlib.figure.Figure at 0x10d35af10>"
      ]
     },
     "metadata": {},
     "output_type": "display_data"
    }
   ],
   "source": [
    "#error bars example\n",
    "yerr = np.ones(x.size)*0.1 #ones creates an array of 1's\n",
    "plt.errorbar(x,y,yerr=yerr)\n",
    "plt.show()"
   ]
  },
  {
   "cell_type": "markdown",
   "metadata": {},
   "source": [
    "### See this link for more documentation\n",
    "- intro http://matplotlib.org/users/pyplot_tutorial.html\n",
    "- full beginners guide http://matplotlib.org/users/beginner.html\n",
    "- all documentations for matplotlib http://matplotlib.org/contents.html"
   ]
  },
  {
   "cell_type": "code",
   "execution_count": 25,
   "metadata": {
    "collapsed": true
   },
   "outputs": [],
   "source": [
    "#3D plotting documents\n",
    "from mpl_toolkits.mplot3d.axes3d import Axes3D"
   ]
  },
  {
   "cell_type": "markdown",
   "metadata": {},
   "source": [
    "-------"
   ]
  },
  {
   "cell_type": "markdown",
   "metadata": {
    "collapsed": true
   },
   "source": [
    "# Lecture 6 — Widgets\n",
    "\n",
    "Todo\n",
    "1. Install wxpython\n",
    "2. Our first application: \"Hello, World\"\n",
    "3. A simple text editor\n"
   ]
  },
  {
   "cell_type": "markdown",
   "metadata": {
    "collapsed": true
   },
   "source": [
    "## 1. Install wxpython\n",
    "\n",
    "**This is quite confusing, and if you are curious to read more about this wxpython widget package check out the official documentation at https://wiki.wxpython.org/Getting%20Started**\n",
    "\n",
    "- To make a graphical interface to use a code in an interactive way we need a library of widgets, called wxpython.  We will explore the usage of this library mainly with examples.  But to start we have to install it with conda.\n",
    "\n",
    "- run the following command:\n",
    "\n",
    "```bash\n",
    "conda install wxpython\n",
    "```"
   ]
  },
  {
   "cell_type": "markdown",
   "metadata": {},
   "source": [
    "## 2. Our first application\n",
    "\n",
    "A traditional \"Hello, World\" application"
   ]
  },
  {
   "cell_type": "code",
   "execution_count": 17,
   "metadata": {
    "collapsed": false
   },
   "outputs": [
    {
     "name": "stdout",
     "output_type": "stream",
     "text": [
      "Overwriting framecode.py\n"
     ]
    }
   ],
   "source": [
    "%%writefile framecode.py\n",
    "#!/usr/bin/env pythonw                            #!/usr/bin/env python on linux\n",
    "import wx\n",
    "\n",
    "app = wx.App(False)                               #create a new app, don't redirect stdout/stderr to\n",
    "frame = wx.Frame(None, wx.ID_ANY, \"Hello World\")  # A frame is the top-level\n",
    "frame.Show(True)                                  #Show the frame\n",
    "app.MainLoop()"
   ]
  },
  {
   "cell_type": "code",
   "execution_count": 19,
   "metadata": {
    "collapsed": false
   },
   "outputs": [],
   "source": [
    "!pythonw framecode.py                             #!python framecode.py on linux"
   ]
  },
  {
   "cell_type": "markdown",
   "metadata": {},
   "source": [
    "## 3. wx.TextCtrl widget  — A simple text editor\n",
    "\n",
    "This little app will let you type some text into a box.  Cool!!"
   ]
  },
  {
   "cell_type": "code",
   "execution_count": 20,
   "metadata": {
    "collapsed": false
   },
   "outputs": [
    {
     "name": "stdout",
     "output_type": "stream",
     "text": [
      "Writing editor.py\n"
     ]
    }
   ],
   "source": [
    "%%writefile editor.py\n",
    "#!/usr/bin/env pythonw\n",
    "import wx\n",
    "class MyFrame(wx.Frame):\n",
    "        \"\"\"We simply derive a new class of frame\"\"\"\n",
    "        def __init__(self, parent, title):\n",
    "            wx.Frame.__init__(self, parent, title=title, size=(200,100))\n",
    "            self.control = wx.TextCtrl(self, style=wx.TE_MULTILINE)\n",
    "            self.Show(True)\n",
    "            \n",
    "app = wx.App(False)\n",
    "frame = MyFrame(None, 'Small editor')\n",
    "app.MainLoop()"
   ]
  },
  {
   "cell_type": "code",
   "execution_count": null,
   "metadata": {
    "collapsed": true
   },
   "outputs": [],
   "source": [
    "!pythonw editor.py"
   ]
  },
  {
   "cell_type": "code",
   "execution_count": null,
   "metadata": {
    "collapsed": true
   },
   "outputs": [],
   "source": []
  }
 ],
 "metadata": {
  "anaconda-cloud": {},
  "kernelspec": {
   "display_name": "Python [conda root]",
   "language": "python",
   "name": "conda-root-py"
  },
  "language_info": {
   "codemirror_mode": {
    "name": "ipython",
    "version": 2
   },
   "file_extension": ".py",
   "mimetype": "text/x-python",
   "name": "python",
   "nbconvert_exporter": "python",
   "pygments_lexer": "ipython2",
   "version": "2.7.12"
  }
 },
 "nbformat": 4,
 "nbformat_minor": 1
}
