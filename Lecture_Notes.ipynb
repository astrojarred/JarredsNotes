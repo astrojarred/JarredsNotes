{
 "cells": [
  {
   "cell_type": "markdown",
   "metadata": {
    "collapsed": true
   },
   "source": [
    "# Lecture 1 — Setting up\n",
    "### January 9, 2017 (Morning)\n",
    "\n",
    "### Before we start:\n",
    "1. Install Anaconda v. 2.7\n",
    "2. Create a git account\n",
    "3. Understand how to run Jupyter Notebook\n",
    "\n",
    "### Todo list—\n",
    "1. Markdown introduction\n",
    "2. Writing code in Jupyter\n",
    "3. Basic UNIX Commands\n",
    "\n",
    "## 1. Markdown introduction"
   ]
  },
  {
   "cell_type": "markdown",
   "metadata": {},
   "source": [
    "- Use markdown when you just want something to appear as nice text.\n",
    "- Great reference on github\n",
    "  - https://github.com/adam-p/markdown-here/wiki/Markdown-Cheatsheet"
   ]
  },
  {
   "cell_type": "markdown",
   "metadata": {},
   "source": [
    "### Headers\n",
    "#Main Header\n",
    "##Sub-header\n",
    "###Smaller Header\n",
    "####Sub sub header\n",
    "#####teehee"
   ]
  },
  {
   "cell_type": "markdown",
   "metadata": {},
   "source": [
    "### Shortcuts\n",
    "\n",
    "**Esc+M** --> Markdown\n",
    "\n",
    "**Esc+Y** --> Code\n",
    "\n",
    "**Shift+Return** --> Execute cell\n"
   ]
  },
  {
   "cell_type": "markdown",
   "metadata": {},
   "source": [
    "### Formatting\n",
    "\n",
    "**bold**\n",
    "\n",
    "*italic*\n",
    "\n",
    "***bold italic***\n",
    "\n",
    "~~strikethrough~~"
   ]
  },
  {
   "cell_type": "markdown",
   "metadata": {},
   "source": [
    "### Lists\n",
    "\n",
    "- Item 1\n",
    "- Item 2\n",
    "- Item 3\n",
    "  * item 3a\n",
    "  * item 3b\n",
    "  "
   ]
  },
  {
   "cell_type": "markdown",
   "metadata": {},
   "source": [
    "### Mathematics\n",
    "- put between dollar signs\n",
    "\n",
    "$10^2$\n",
    "\n",
    "$\\log 12 * x$\n",
    "\n",
    "$(a+b)/c$\n",
    "\n",
    "$\\frac{1}{2}$"
   ]
  },
  {
   "cell_type": "markdown",
   "metadata": {},
   "source": [
    "### Block Quotes\n",
    "\n",
    "> This is a block quote"
   ]
  },
  {
   "cell_type": "markdown",
   "metadata": {},
   "source": [
    "### Tables\n",
    "\n",
    "Markdown | Less | Pretty\n",
    "--- | --- | ---\n",
    "*Still* | `renders` | **nicely**\n",
    "1 | 2 | 3\n",
    "\n",
    "\n",
    "\n",
    "| Tables        | Are           | Cool  |\n",
    "| ------------- |:-------------:| -----:|\n",
    "| col 3 is      | right-aligned | $1600 |\n",
    "| col 2 is      | centered      |   $12 |\n",
    "| zebra stripes | are neat      |    $1 |"
   ]
  },
  {
   "cell_type": "markdown",
   "metadata": {},
   "source": [
    "### Writing code\n",
    "\n",
    "- python example\n",
    "\n",
    "```python\n",
    "import sys\n",
    "```\n",
    "\n",
    "- bash example\n",
    "\n",
    "```bash\n",
    "cd /Home/....\n",
    "ls -l\n",
    "```\n",
    "\n",
    "\n",
    "\n",
    "\n"
   ]
  },
  {
   "cell_type": "markdown",
   "metadata": {},
   "source": [
    "## 2. Writing code in Jupyter\n",
    "\n",
    "- You can write bash also in here using the prefix \n",
    "  - %%bash\n",
    "- If you execute these it will print results!\n",
    "- See e.g. below"
   ]
  },
  {
   "cell_type": "code",
   "execution_count": 4,
   "metadata": {
    "collapsed": false
   },
   "outputs": [
    {
     "name": "stdout",
     "output_type": "stream",
     "text": [
      "Hello World\n"
     ]
    }
   ],
   "source": [
    "%%bash\n",
    "echo 'Hello World'"
   ]
  },
  {
   "cell_type": "code",
   "execution_count": 3,
   "metadata": {
    "collapsed": false
   },
   "outputs": [
    {
     "name": "stdout",
     "output_type": "stream",
     "text": [
      "jarredgreen\r\n"
     ]
    }
   ],
   "source": [
    "! whoami"
   ]
  },
  {
   "cell_type": "markdown",
   "metadata": {},
   "source": [
    "## 3. Basic UNIX Commands\n",
    "\n",
    "***Process code*** | ***Description*** | **Useful Arguements**\n",
    "---|---|---\n",
    "**ps -a** | shows all processes |\n",
    "**ps -u jarredgreen** | shows processes of my user and process numbers |\n",
    "**ps -u jarredgreen &#124; grep jup** | filters processes that contain \"jup\" and shows the process number |\n",
    "**kill -9 %i** | kills process #i |\n",
    "**bg** | runs a process in the background |\n",
    "**fg %i** | brings a process back to the forground |\n",
    "**whoami** | current user |\n",
    "**pwd** | shows current directory |\n",
    "**ls** | lists files in current directory | *-F* gives more details, *-a* shows hidden files too, *-t* orders by time, *-l* more info with privileges, \\*.extension shows files with that extension, \\* is a wildcard\n",
    "**cd /filepath** | change directory to filepath |\n",
    "**cd ..** | takes you to higher directory |\n",
    "**man 'command'** | shows instructions for 'command' |\n",
    "**mkdir 'folder name'** | creates a folder named 'folder name' |\n",
    "**rmdir 'folder'** | will remove empty folder |\n",
    "**mv** | moves a file or directory |\n",
    "**rm** | deletes a file |\n",
    "**history** | shows recent entries |\n",
    "**cp** | copies files | *cp \\*.txt directory* copies file to new name/place, *cp -r* copies recursively to another location\n",
    "**vim** or **nano** | document editor |"
   ]
  },
  {
   "cell_type": "markdown",
   "metadata": {},
   "source": [
    "___"
   ]
  },
  {
   "cell_type": "markdown",
   "metadata": {
    "collapsed": true
   },
   "source": [
    "# Lecture 2 — Introduction to UNIX commands\n",
    "### January 9, 2017 (Afternoon)\n",
    "\n",
    "- Continuing with bash / unix commands\n",
    "\n",
    "### Todo list—\n",
    "1. Pipes and chaining\n",
    "2. Wildcards\n",
    "3. Basic Scripting\n",
    "4. Arrays\n",
    "5. Grep\n",
    "6. Find\n",
    "7. Substitute Strings"
   ]
  },
  {
   "cell_type": "markdown",
   "metadata": {},
   "source": [
    "### 1. Pipes and chaining\n",
    "\n",
    "- **wc** shows charactercounts of files\n",
    "- **wc -w** shows wordcounts\n",
    "- **wc -l** shows line count"
   ]
  },
  {
   "cell_type": "code",
   "execution_count": 4,
   "metadata": {
    "collapsed": false
   },
   "outputs": [
    {
     "name": "stdout",
     "output_type": "stream",
     "text": [
      "     276     714    5797 Lecture 1-Copy1.ipynb\n",
      "     276     729    5885 Lecture 1.ipynb\n",
      "      46      85     807 Lecture 2.ipynb\n",
      "     598    1528   12489 total\n"
     ]
    }
   ],
   "source": [
    "%%bash\n",
    "wc *.ipynb"
   ]
  },
  {
   "cell_type": "code",
   "execution_count": 5,
   "metadata": {
    "collapsed": false
   },
   "outputs": [
    {
     "name": "stdout",
     "output_type": "stream",
     "text": [
      "     714 Lecture 1-Copy1.ipynb\n",
      "     729 Lecture 1.ipynb\n",
      "      85 Lecture 2.ipynb\n",
      "    1528 total\n"
     ]
    }
   ],
   "source": [
    "%%bash\n",
    "wc -w *.ipynb"
   ]
  },
  {
   "cell_type": "markdown",
   "metadata": {},
   "source": [
    "- Let's write the line counts to a file called \"lengths\""
   ]
  },
  {
   "cell_type": "code",
   "execution_count": 9,
   "metadata": {
    "collapsed": true
   },
   "outputs": [],
   "source": [
    "%%bash\n",
    "wc -l *.ipynb > lengths"
   ]
  },
  {
   "cell_type": "markdown",
   "metadata": {},
   "source": [
    "- Now let's add more information to the file using the double **>>**"
   ]
  },
  {
   "cell_type": "code",
   "execution_count": 10,
   "metadata": {
    "collapsed": true
   },
   "outputs": [],
   "source": [
    "%%bash\n",
    "wc -w *.ipynb >> lengths"
   ]
  },
  {
   "cell_type": "code",
   "execution_count": 14,
   "metadata": {
    "collapsed": false
   },
   "outputs": [],
   "source": [
    "more lengths"
   ]
  },
  {
   "cell_type": "markdown",
   "metadata": {},
   "source": [
    "**more** shows an overview of the file, **cat** prints all contents."
   ]
  },
  {
   "cell_type": "code",
   "execution_count": 13,
   "metadata": {
    "collapsed": false
   },
   "outputs": [
    {
     "name": "stdout",
     "output_type": "stream",
     "text": [
      "     276 Lecture 1-Copy1.ipynb\n",
      "     276 Lecture 1.ipynb\n",
      "      46 Lecture 2.ipynb\n",
      "     598 total\n",
      "     714 Lecture 1-Copy1.ipynb\n",
      "     729 Lecture 1.ipynb\n",
      "      85 Lecture 2.ipynb\n",
      "    1528 total\n"
     ]
    }
   ],
   "source": [
    "%%bash\n",
    "cat lengths"
   ]
  },
  {
   "cell_type": "markdown",
   "metadata": {},
   "source": [
    "- Now let's try **sort**ing the file"
   ]
  },
  {
   "cell_type": "code",
   "execution_count": 16,
   "metadata": {
    "collapsed": false
   },
   "outputs": [],
   "source": [
    "%%bash\n",
    "sort -n lengths > sorted-lengths.txt"
   ]
  },
  {
   "cell_type": "code",
   "execution_count": 17,
   "metadata": {
    "collapsed": false
   },
   "outputs": [
    {
     "name": "stdout",
     "output_type": "stream",
     "text": [
      "      46 Lecture 2.ipynb\n",
      "      85 Lecture 2.ipynb\n",
      "     276 Lecture 1-Copy1.ipynb\n",
      "     276 Lecture 1.ipynb\n",
      "     598 total\n",
      "     714 Lecture 1-Copy1.ipynb\n",
      "     729 Lecture 1.ipynb\n",
      "    1528 total\n"
     ]
    }
   ],
   "source": [
    "%%bash\n",
    "cat sorted-lengths.txt"
   ]
  },
  {
   "cell_type": "markdown",
   "metadata": {},
   "source": [
    "- **head -n 1** and **tail -n 1** will print the first or the last line of the file\n",
    "  - -n means \"numerically\""
   ]
  },
  {
   "cell_type": "code",
   "execution_count": 20,
   "metadata": {
    "collapsed": false
   },
   "outputs": [
    {
     "name": "stdout",
     "output_type": "stream",
     "text": [
      "    1528 total\n"
     ]
    }
   ],
   "source": [
    "%%bash\n",
    "tail -n 1 sorted-lengths.txt"
   ]
  },
  {
   "cell_type": "code",
   "execution_count": 21,
   "metadata": {
    "collapsed": false
   },
   "outputs": [
    {
     "name": "stdout",
     "output_type": "stream",
     "text": [
      "      46 Lecture 2.ipynb\n"
     ]
    }
   ],
   "source": [
    "%%bash\n",
    "head -n 1 sorted-lengths.txt"
   ]
  },
  {
   "cell_type": "markdown",
   "metadata": {},
   "source": [
    "- **you can use pipes to chain commands**\n",
    "- the following says\n",
    "  - print line counts of files ending in .ipynb | then sort those entries numerically and > export to a text file"
   ]
  },
  {
   "cell_type": "code",
   "execution_count": 26,
   "metadata": {
    "collapsed": true
   },
   "outputs": [],
   "source": [
    "%%bash\n",
    "wc -l *.ipynb | sort -n > newsort.txt"
   ]
  },
  {
   "cell_type": "code",
   "execution_count": 28,
   "metadata": {
    "collapsed": false
   },
   "outputs": [
    {
     "name": "stdout",
     "output_type": "stream",
     "text": [
      "      46 Lecture 2.ipynb\n",
      "     276 Lecture 1-Copy1.ipynb\n",
      "     276 Lecture 1.ipynb\n",
      "     598 total\n"
     ]
    }
   ],
   "source": [
    "%%bash\n",
    "cat newsort.txt"
   ]
  },
  {
   "cell_type": "markdown",
   "metadata": {},
   "source": [
    "- now let's just create some files for the sake of this example"
   ]
  },
  {
   "cell_type": "code",
   "execution_count": 34,
   "metadata": {
    "collapsed": false
   },
   "outputs": [],
   "source": [
    "%%bash\n",
    "echo 'first line\n",
    "second line\n",
    "third line' > lines.ipynb"
   ]
  },
  {
   "cell_type": "code",
   "execution_count": 51,
   "metadata": {
    "collapsed": true
   },
   "outputs": [],
   "source": [
    "%%bash\n",
    "echo 'lion\n",
    "panther\n",
    "person\n",
    "tiger' > animals.txt"
   ]
  },
  {
   "cell_type": "markdown",
   "metadata": {},
   "source": [
    "- can we find the second smallest file in length in one line of code?"
   ]
  },
  {
   "cell_type": "code",
   "execution_count": 55,
   "metadata": {
    "collapsed": false
   },
   "outputs": [
    {
     "name": "stdout",
     "output_type": "stream",
     "text": [
      "       4 animals.ipynb\n"
     ]
    }
   ],
   "source": [
    "%%bash\n",
    "wc -l *.ipynb"
   ]
  },
  {
   "cell_type": "code",
   "execution_count": 57,
   "metadata": {
    "collapsed": false
   },
   "outputs": [
    {
     "name": "stdout",
     "output_type": "stream",
     "text": [
      "       3 lines.ipynb\n",
      "       4 animals.ipynb\n",
      "      46 Lecture 2.ipynb\n",
      "     276 Lecture 1-Copy1.ipynb\n",
      "     551 Lecture 1.ipynb\n",
      "     880 total\n"
     ]
    }
   ],
   "source": [
    "%%bash\n",
    "wc -l *.ipynb | sort -n"
   ]
  },
  {
   "cell_type": "code",
   "execution_count": 58,
   "metadata": {
    "collapsed": false
   },
   "outputs": [
    {
     "name": "stdout",
     "output_type": "stream",
     "text": [
      "       3 lines.ipynb\n",
      "       4 animals.ipynb\n"
     ]
    }
   ],
   "source": [
    "%%bash\n",
    "wc -l *.ipynb | sort -n | head -2"
   ]
  },
  {
   "cell_type": "code",
   "execution_count": 59,
   "metadata": {
    "collapsed": false
   },
   "outputs": [
    {
     "name": "stdout",
     "output_type": "stream",
     "text": [
      "       4 animals.ipynb\n"
     ]
    }
   ],
   "source": [
    "%%bash\n",
    "wc -l *.ipynb | sort -n | head -2 | tail -1"
   ]
  },
  {
   "cell_type": "markdown",
   "metadata": {},
   "source": [
    "- **we did it!**"
   ]
  },
  {
   "cell_type": "markdown",
   "metadata": {},
   "source": [
    "### 2. Wildcards"
   ]
  },
  {
   "cell_type": "markdown",
   "metadata": {},
   "source": [
    "**command** | **meaning**\n",
    "--- | ---\n",
    "\\* | any string of any length\n",
    "? | any single character\n",
    "[a-r] | everything from a-r\n",
    "\\*[1-9]\\* | everthing with a number from 1-9 in the middle (FROM)\n",
    "[!a] | everyhing excluding \"a\" (NOT)\n",
    "{\\*doc, \\*pdf} | lets you pick multiple things (OR)\n",
    "[^a] | beginning of line\n",
    "[\\$a] | a at end of line"
   ]
  },
  {
   "cell_type": "markdown",
   "metadata": {},
   "source": [
    "- **tr**, **cut**, **uniq** commands"
   ]
  },
  {
   "cell_type": "markdown",
   "metadata": {},
   "source": [
    "**command** | **meaning** | **extensions**\n",
    "--- | --- | ---\n",
    "**tr** | translates characters | **-s** squeezes characters together, \n",
    "**cut** | divide a file into separate parts | **cut -c x-y** selects charaters in position x-y\n",
    "**uniq** | show only unique values |\n",
    "\n",
    "**uniq**\n",
    "- See example below for uniq"
   ]
  },
  {
   "cell_type": "code",
   "execution_count": 62,
   "metadata": {
    "collapsed": true
   },
   "outputs": [],
   "source": [
    "%%bash\n",
    "#make a file with numbers:\n",
    "echo '1\n",
    "1\n",
    "2\n",
    "3\n",
    "5\n",
    "8\n",
    "13' > numbers.txt"
   ]
  },
  {
   "cell_type": "code",
   "execution_count": 63,
   "metadata": {
    "collapsed": false
   },
   "outputs": [
    {
     "name": "stdout",
     "output_type": "stream",
     "text": [
      "1\n",
      "1\n",
      "2\n",
      "3\n",
      "5\n",
      "8\n",
      "13\n"
     ]
    }
   ],
   "source": [
    "%%bash\n",
    "cat numbers.txt"
   ]
  },
  {
   "cell_type": "code",
   "execution_count": 64,
   "metadata": {
    "collapsed": false
   },
   "outputs": [
    {
     "name": "stdout",
     "output_type": "stream",
     "text": [
      "1\n",
      "2\n",
      "3\n",
      "5\n",
      "8\n",
      "13\n"
     ]
    }
   ],
   "source": [
    "%%bash\n",
    "cat numbers.txt | sort -n | uniq"
   ]
  },
  {
   "cell_type": "markdown",
   "metadata": {
    "collapsed": true
   },
   "source": [
    "**cut:**"
   ]
  },
  {
   "cell_type": "code",
   "execution_count": 1,
   "metadata": {
    "collapsed": false
   },
   "outputs": [
    {
     "name": "stdout",
     "output_type": "stream",
     "text": [
      "6 Lecture 1-Copy1.\n",
      "7 Lecture 1.ipynb\n",
      "6 Lecture 2.ipynb\n",
      "4 animals.ipynb\n",
      "3 lines.ipynb\n",
      "6 total\n"
     ]
    }
   ],
   "source": [
    "%%bash\n",
    "wc -l *.ipynb | cut -c 8-25"
   ]
  },
  {
   "cell_type": "markdown",
   "metadata": {},
   "source": [
    "**tr:**\n",
    "\n",
    "-squeeze:"
   ]
  },
  {
   "cell_type": "code",
   "execution_count": 2,
   "metadata": {
    "collapsed": false
   },
   "outputs": [
    {
     "name": "stdout",
     "output_type": "stream",
     "text": [
      "A beautiful morning in Innsbruck\n"
     ]
    }
   ],
   "source": [
    "%%bash\n",
    "echo 'A beautiful     morning in Innsbruck' | tr -s \" \""
   ]
  },
  {
   "cell_type": "code",
   "execution_count": 5,
   "metadata": {
    "collapsed": false
   },
   "outputs": [
    {
     "name": "stdout",
     "output_type": "stream",
     "text": [
      "A beautiful morning in Innsbruck\n"
     ]
    }
   ],
   "source": [
    "%%bash\n",
    "echo 'A beautifulllll morning in Innsbruck' | tr -s \"l\""
   ]
  },
  {
   "cell_type": "markdown",
   "metadata": {},
   "source": [
    "**tr \"x\" \"y\"** replaces x with y\n",
    "\n",
    "- in this example \"/n\" means a \"line break\"\n",
    "- so, replace line break with spaces:"
   ]
  },
  {
   "cell_type": "code",
   "execution_count": 7,
   "metadata": {
    "collapsed": false
   },
   "outputs": [
    {
     "name": "stdout",
     "output_type": "stream",
     "text": [
      "A beautiful morning in Innsbruck "
     ]
    }
   ],
   "source": [
    "%%bash\n",
    "echo 'A\n",
    "beautiful\n",
    "morning\n",
    "in\n",
    "Innsbruck' | tr \"\\n\" \" \""
   ]
  },
  {
   "cell_type": "markdown",
   "metadata": {},
   "source": [
    "### 3. Basic Scripting"
   ]
  },
  {
   "cell_type": "markdown",
   "metadata": {},
   "source": [
    "- Let's write a simple script (using a loop) to replicate the **ls** function"
   ]
  },
  {
   "cell_type": "code",
   "execution_count": 15,
   "metadata": {
    "collapsed": false
   },
   "outputs": [
    {
     "name": "stdout",
     "output_type": "stream",
     "text": [
      "This file is: Lecture 1-Copy1.ipynb\n",
      "This file is: Lecture 1.ipynb\n",
      "This file is: Lecture 2.ipynb\n",
      "This file is: animals.ipynb\n",
      "This file is: lines.ipynb\n"
     ]
    }
   ],
   "source": [
    "%%bash\n",
    "#this code replicates the basic ls function on unix, listing files in the directory\n",
    "for filename in *.ipynb\n",
    "    do\n",
    "        echo 'This file is: '$filename\n",
    "    done"
   ]
  },
  {
   "cell_type": "markdown",
   "metadata": {},
   "source": [
    "- Can we do the same thing, saving it to a file?"
   ]
  },
  {
   "cell_type": "code",
   "execution_count": 64,
   "metadata": {
    "collapsed": false
   },
   "outputs": [],
   "source": [
    "%%bash\n",
    "#what does the line belwo do? Shibang line\n",
    "echo '#/usr/bin/env bash\n",
    "echo 'This takes all .txt files, prints the filename, and prints the last five lines!'\n",
    "for filename in *.txt\n",
    "do\n",
    "    echo \"This file is: \"$filename\n",
    "    tail -5 $filename\n",
    "done' > script.sh\n",
    "#save file to a script\n",
    "chmod +x script.sh\n",
    "# makes the file executable"
   ]
  },
  {
   "cell_type": "code",
   "execution_count": 65,
   "metadata": {
    "collapsed": false
   },
   "outputs": [
    {
     "name": "stdout",
     "output_type": "stream",
     "text": [
      "script.sh*\n"
     ]
    }
   ],
   "source": [
    "%%bash\n",
    "ls -F script.sh"
   ]
  },
  {
   "cell_type": "code",
   "execution_count": 66,
   "metadata": {
    "collapsed": false
   },
   "outputs": [
    {
     "name": "stdout",
     "output_type": "stream",
     "text": [
      "This takes all .txt files, prints the filename, and prints the last five lines!\n",
      "This file is: newsort.txt\n",
      "      46 Lecture 2.ipynb\n",
      "     276 Lecture 1-Copy1.ipynb\n",
      "     276 Lecture 1.ipynb\n",
      "     598 total\n",
      "This file is: numbers.txt\n",
      "2\n",
      "3\n",
      "5\n",
      "8\n",
      "13\n",
      "This file is: sorted-lengths.txt\n",
      "     276 Lecture 1.ipynb\n",
      "     598 total\n",
      "     714 Lecture 1-Copy1.ipynb\n",
      "     729 Lecture 1.ipynb\n",
      "    1528 total\n"
     ]
    }
   ],
   "source": [
    "%%bash\n",
    "./script.sh"
   ]
  },
  {
   "cell_type": "markdown",
   "metadata": {},
   "source": [
    "**- Or you can do it all in one line:**"
   ]
  },
  {
   "cell_type": "code",
   "execution_count": 72,
   "metadata": {
    "collapsed": true
   },
   "outputs": [],
   "source": [
    "# I missed this code, but he somehow used semi-colons to separate the lines"
   ]
  },
  {
   "cell_type": "markdown",
   "metadata": {},
   "source": [
    "### 4. Arrays"
   ]
  },
  {
   "cell_type": "markdown",
   "metadata": {},
   "source": [
    "- The following is how you should format arrays in bash"
   ]
  },
  {
   "cell_type": "code",
   "execution_count": 2,
   "metadata": {
    "collapsed": false
   },
   "outputs": [],
   "source": [
    "ARRAY=(\"val1\"\"val2\"\"val3\")\n",
    "\n",
    "#or...\n",
    "ARRAY=(\n",
    "\"val1\"\n",
    "\"val2\"\n",
    "\"val3\"\n",
    ")"
   ]
  },
  {
   "cell_type": "markdown",
   "metadata": {},
   "source": [
    "- Ok not really sure what the next one is doing, and it's hard to make comments in there"
   ]
  },
  {
   "cell_type": "code",
   "execution_count": 3,
   "metadata": {
    "collapsed": true
   },
   "outputs": [],
   "source": [
    "%%bash\n",
    "echo '#/usr/bin/env bash' > script3.sh\n",
    "echo '\n",
    "dir0=\"/dir/\"\n",
    "ARRAY=(\n",
    "\"val1\"\n",
    "\"val2\"\n",
    "\"val3\"\n",
    ")\n",
    "echo \"2nd value is \"${ARRAY[1]}\n",
    "for name in \"${ARRAY[@]}\"\n",
    "do\n",
    "    echo $dir0$name\n",
    "done\n",
    "' >> script3.sh\n",
    "\n",
    "chmod +x script3.sh"
   ]
  },
  {
   "cell_type": "code",
   "execution_count": 4,
   "metadata": {
    "collapsed": false
   },
   "outputs": [
    {
     "name": "stdout",
     "output_type": "stream",
     "text": [
      "2nd value is val2\n",
      "/dir/val1\n",
      "/dir/val2\n",
      "/dir/val3\n"
     ]
    }
   ],
   "source": [
    "%%bash\n",
    "./script3.sh"
   ]
  },
  {
   "cell_type": "markdown",
   "metadata": {},
   "source": [
    "### 5. Grep"
   ]
  },
  {
   "cell_type": "markdown",
   "metadata": {},
   "source": [
    "**grep** is great at searching through documents for you\n",
    "Below we created a document with a few words:\n",
    "\n",
    "**Arguments** | **function**\n",
    "--- | ---\n",
    "-n | gives line number\n",
    "-i | ignore case\n",
    "-w | the expression is searched for as a word\n",
    "-v | gives inverse\n",
    "-e | specify a pattern used during search"
   ]
  },
  {
   "cell_type": "code",
   "execution_count": 73,
   "metadata": {
    "collapsed": true
   },
   "outputs": [],
   "source": [
    "%%bash\n",
    "echo 'mars\n",
    "earth\n",
    "jupiter\n",
    "saturn\n",
    "venus' > planets_list.txt"
   ]
  },
  {
   "cell_type": "markdown",
   "metadata": {},
   "source": [
    "- see the below examples"
   ]
  },
  {
   "cell_type": "code",
   "execution_count": 75,
   "metadata": {
    "collapsed": false
   },
   "outputs": [
    {
     "name": "stdout",
     "output_type": "stream",
     "text": [
      "jupiter\n",
      "saturn\n",
      "venus\n"
     ]
    }
   ],
   "source": [
    "%%bash\n",
    "grep u planets_list.txt"
   ]
  },
  {
   "cell_type": "code",
   "execution_count": 77,
   "metadata": {
    "collapsed": false
   },
   "outputs": [
    {
     "name": "stdout",
     "output_type": "stream",
     "text": [
      "saturn\n"
     ]
    }
   ],
   "source": [
    "%%bash\n",
    "grep ur planets_list.txt"
   ]
  },
  {
   "cell_type": "code",
   "execution_count": 78,
   "metadata": {
    "collapsed": false
   },
   "outputs": [
    {
     "name": "stdout",
     "output_type": "stream",
     "text": [
      "jupiter\n",
      "saturn\n"
     ]
    }
   ],
   "source": [
    "%%bash\n",
    "grep \"t.r\" planets_list.txt"
   ]
  },
  {
   "cell_type": "code",
   "execution_count": 81,
   "metadata": {
    "collapsed": false
   },
   "outputs": [
    {
     "name": "stdout",
     "output_type": "stream",
     "text": [
      "saturn\n",
      "venus\n"
     ]
    }
   ],
   "source": [
    "%%bash\n",
    "grep \"u[rs]\" planets_list.txt"
   ]
  },
  {
   "cell_type": "markdown",
   "metadata": {},
   "source": [
    "- these things like \"t.r\" are called \"regular expressions\" and have many rules and can be quite complex.\n",
    "- see the wikipedia page for all different (crazy) rules\n",
    "  - https://en.wikipedia.org/wiki/Regular_expression"
   ]
  },
  {
   "cell_type": "markdown",
   "metadata": {},
   "source": [
    "### Examples\n",
    "- from wikipedia\n",
    "\n",
    "**Regular Expressions**\n",
    "\n",
    "\n",
    "**Example** | **Function**\n",
    "--- | ---\n",
    ".at | matches any three-character string ending with \"at\", including \"hat\", \"cat\", and \"bat\"\n",
    "[hc]at | matches \"hat\" and \"cat\".\n",
    "[^b]at | matches all strings matched by .at except \"bat\".\n",
    "[^hc]at | matches all strings matched by .at other than \"hat\" and \"cat\".\n",
    "^[hc]at | matches \"hat\" and \"cat\", but only at the beginning of the string or line.\n",
    "[hc]at$ | matches \"hat\" and \"cat\", but only at the end of the string or line.\n",
    "\\[.\\] | matches any single character surrounded by \"[\" and \"]\" since the brackets are escaped, for example: \"[a]\" and \"[b]\".\n",
    "s.* | matches s followed by zero or more characters, for example: \"s\" and \"saw\" and \"seed\"."
   ]
  },
  {
   "cell_type": "markdown",
   "metadata": {},
   "source": [
    "### 6. Find\n",
    "\n",
    "**find** will walk through a directory in all sub-folders and find files\n",
    "\n",
    "**Arguments** | **function**\n",
    "--- | ---\n",
    "-type d | looks for directories"
   ]
  },
  {
   "cell_type": "code",
   "execution_count": 91,
   "metadata": {
    "collapsed": false
   },
   "outputs": [
    {
     "name": "stdout",
     "output_type": "stream",
     "text": [
      ".\n",
      "./.DS_Store\n",
      "./.ipynb_checkpoints\n",
      "./.ipynb_checkpoints/Lecture 1-checkpoint.ipynb\n",
      "./.ipynb_checkpoints/Lecture 1-Copy1-checkpoint.ipynb\n",
      "./.ipynb_checkpoints/Lecture 2-checkpoint.ipynb\n",
      "./animals.ipynb\n",
      "./Lecture 1-Copy1.ipynb\n",
      "./Lecture 1.ipynb\n",
      "./Lecture 2.ipynb\n",
      "./lines.ipynb\n",
      "./newsort.txt\n",
      "./numbers.txt\n",
      "./planets_list.txt\n",
      "./script.sh\n",
      "./script3.sh\n",
      "./sorted-lengths.txt\n"
     ]
    }
   ],
   "source": [
    "%%bash\n",
    "find ."
   ]
  },
  {
   "cell_type": "code",
   "execution_count": 96,
   "metadata": {
    "collapsed": false
   },
   "outputs": [
    {
     "name": "stdout",
     "output_type": "stream",
     "text": [
      "..\n",
      "../Advanced Mathematics\n",
      "../Advanced Mathematics/Lecture\n",
      "../Advanced Mathematics/Lecture/Lecture Notes\n",
      "../Advanced Mathematics/Lecture/Study Guides\n",
      "../Advanced Mathematics/Proseminar\n",
      "../Advanced Mathematics/Proseminar/Exams\n",
      "../Advanced Mathematics/Proseminar/PS Exercise Sheets\n",
      "../Advanced Mathematics/Proseminar/PS Homework\n",
      "../Advanced Mathematics/Proseminar/PS Homework/Solutions\n",
      "../Advanced Mathematics/Proseminar/PS Homework/Solutions/From Professors\n",
      "../Advanced Mathematics/Proseminar/PS Homework/Solutions/Javier Solutions\n",
      "../Baysean\n",
      "../Concepts of Physics\n",
      "../Concepts of Physics/Lectures\n",
      "../Concepts of Physics/Lectures/Lecture Homework\n",
      "../Concepts of Physics/Lectures/Lecture Homework/HW1 Resources\n",
      "../Concepts of Physics/Lectures/Lecture Homework/Javier Solutions\n",
      "../Concepts of Physics/Lectures/Lecture Notes\n",
      "../Concepts of Physics/Lectures/Resources\n",
      "../Concepts of Physics/Lectures/Resources/Adrian's Notes\n",
      "../Concepts of Physics/Lectures/Resources/Agata's Quantum Notes\n",
      "../Concepts of Physics/Lectures/Resources/All Previous Assignments and Exams\n",
      "../Concepts of Physics/Lectures/Resources/Atomic Notes\n",
      "../Concepts of Physics/Lectures/Resources/Study Guides\n",
      "../Concepts of Physics/Proseminar\n",
      "../Concepts of Physics/Proseminar/Homework Scans\n",
      "../Concepts of Physics/Proseminar/PS Excercise Sheets\n",
      "../Concepts of Physics/Proseminar/PS Excercise Sheets/Solutions\n",
      "../Concepts of Physics/Proseminar/PS Excercise Sheets/Solutions/Javier Solutions\n",
      "../Concepts of Physics/Proseminar/PS Excercise Sheets/Solutions/Javier Solutions/Tutorial_Solutions_exercise6\n",
      "../Concepts of Physics/Proseminar/PS Homework\n",
      "../Concepts of Physics/Proseminar/PS Homework/Solutions\n",
      "../Concepts of Physics/Proseminar/PS Homework/Solutions/From Professors\n",
      "../Concepts of Physics/Proseminar/PS Homework/Solutions/Javier Solutions\n",
      "../Extragalactic\n",
      "../Extragalactic/Lecture\n",
      "../Extragalactic/Lecture/Lecture Notes\n",
      "../Extragalactic/Proseminar\n",
      "../Extragalactic/Proseminar/Exercises\n",
      "../Extragalactic/Proseminar/Homework\n",
      "../Extragalactic/Proseminar/Homework/Assignments\n",
      "../Extragalactic/Proseminar/Homework/Corrected\n",
      "../Extragalactic/Proseminar/Homework/Submitted\n",
      "../Extragalactic/Proseminar/Resources\n",
      "../Forms\n",
      "../Galactic\n",
      "../Galactic/Proseminar\n",
      "../Galactic/Proseminar/Exercise Sheets\n",
      "../Galactic/Proseminar/Homework\n",
      "../Galactic/Proseminar/Homework/Assignments\n",
      "../Galactic/Proseminar/Homework/Corrected\n",
      "../Galactic/Proseminar/Homework/Submitted\n",
      "../German\n",
      "../Programming\n",
      "../Programming/.ipynb_checkpoints\n"
     ]
    }
   ],
   "source": [
    "%%bash\n",
    "#list all directories starting from the one above\n",
    "find .. -type d"
   ]
  },
  {
   "cell_type": "code",
   "execution_count": 99,
   "metadata": {
    "collapsed": false
   },
   "outputs": [
    {
     "name": "stdout",
     "output_type": "stream",
     "text": [
      "       4 ../Programming/newsort.txt\n",
      "       7 ../Programming/numbers.txt\n",
      "       5 ../Programming/planets_list.txt\n",
      "       8 ../Programming/sorted-lengths.txt\n",
      "      24 total\n"
     ]
    }
   ],
   "source": [
    "%%bash\n",
    "# you can also use find as an argument for another command\n",
    "wc -l $(find .. -name '*.txt')"
   ]
  },
  {
   "cell_type": "markdown",
   "metadata": {},
   "source": [
    "- Finally, we can see how to pass arguments to find"
   ]
  },
  {
   "cell_type": "code",
   "execution_count": 100,
   "metadata": {
    "collapsed": false
   },
   "outputs": [
    {
     "name": "stdout",
     "output_type": "stream",
     "text": [
      "../Programming\n"
     ]
    }
   ],
   "source": [
    "%%bash\n",
    "#not sure what this one is doing, look further into it\n",
    "find .. -name '*.txt' -exec dirname {} \\; | uniq"
   ]
  },
  {
   "cell_type": "markdown",
   "metadata": {},
   "source": [
    "### 7. Substitute Strings\n",
    "\n",
    "ways to do this include **sed**, **awk**, and **perl**\n",
    "\n",
    "**sed** usually does this trick\n",
    "\n",
    "-in the following case it's kind of like find and replace"
   ]
  },
  {
   "cell_type": "code",
   "execution_count": 101,
   "metadata": {
    "collapsed": false
   },
   "outputs": [
    {
     "name": "stdout",
     "output_type": "stream",
     "text": [
      "The cat walks on the roof\n"
     ]
    }
   ],
   "source": [
    "%%bash\n",
    "echo 'The cat runs on the roof' | sed 's/run/walk/'"
   ]
  },
  {
   "cell_type": "markdown",
   "metadata": {},
   "source": [
    "- In this eample we will use perl to do this"
   ]
  },
  {
   "cell_type": "code",
   "execution_count": 108,
   "metadata": {
    "collapsed": false
   },
   "outputs": [
    {
     "name": "stdout",
     "output_type": "stream",
     "text": [
      "This file is rotten\n",
      "This file is fresh\n"
     ]
    }
   ],
   "source": [
    "%%bash\n",
    "echo 'This file is rotten' > rotten.txt\n",
    "cat rotten.txt\n",
    "perl -pi -e 's/rotten/fresh/' rotten.txt\n",
    "# -e implies that this is a regular expression\n",
    "cat rotten.txt"
   ]
  },
  {
   "cell_type": "markdown",
   "metadata": {
    "collapsed": true
   },
   "source": [
    "-------"
   ]
  },
  {
   "cell_type": "markdown",
   "metadata": {},
   "source": [
    "# Lecture 3 — Introduction to Git\n",
    "### January 10, 2017 (Morning)\n",
    "\n",
    "### Todo list—\n",
    "1. Create repository on Github\n",
    "2. Github Version Control\n",
    "3. Git commands\n",
    "\n",
    "## 1. Github Repository\n",
    "- just go to the website and make a new repository \n",
    "\n",
    "## 2. Github Version Control\n",
    "- keeps track of every change in your code\n",
    "- backs up remotely\n",
    "- allows for remote collaboration\n",
    "- shows who has made each edit\n",
    "\n",
    "#### Terminology\n",
    "\n",
    "**Word** | **Definition**\n",
    "--- | ---\n",
    "Repository | where source code is stored\n",
    "Checkout | download a local copy of the files\n",
    "Commit | saving modification\n",
    "Master | the current release version of the file\n",
    "Branch | a working copy of the master that you can edit\n",
    "Merge | merging the current branch with the current master\n",
    "Conflict | when you must pick between code from the master or the branch\n",
    "Forking | creating a new branch\n",
    "Clone | making a copy of the repository (and history) on the local machine\n",
    "Pull | grab code from cloud\n",
    "Push | upload local code to the repository\n",
    "\n",
    "#### Git Configuration on the local machine\n",
    "\n",
    "```bash\n",
    "git config --global user.name \"your name\"\n",
    "git config --global user.email \"your email\"\n",
    "git config --global color.ui \"auto\"\n",
    "git config --global core.editor \"vim\"\n",
    "```"
   ]
  },
  {
   "cell_type": "code",
   "execution_count": 1,
   "metadata": {
    "collapsed": false
   },
   "outputs": [
    {
     "name": "stdout",
     "output_type": "stream",
     "text": [
      "credential.helper=osxkeychain\n",
      "user.name=astrojarred\n",
      "user.email=astrojarred@gmail.com\n",
      "core.editor=vim\n",
      "color.ui=auto\n"
     ]
    }
   ],
   "source": [
    "%%bash\n",
    "git config --list"
   ]
  },
  {
   "cell_type": "markdown",
   "metadata": {},
   "source": [
    "## 3. Git Commands"
   ]
  },
  {
   "cell_type": "markdown",
   "metadata": {},
   "source": [
    "**Make a Repository**\n",
    "\n",
    "```bash\n",
    "mkdir Repos\n",
    "cd Repos\n",
    "git init Repos\n",
    "```\n",
    "\n",
    "\n",
    "**Clone a repository**\n",
    "\n",
    "```bash\n",
    "git clone https://github.com/User/Your_Repository\n",
    "```\n",
    "\n",
    "**Check the status of the repository**\n",
    "\n",
    "```bash\n",
    "git status\n",
    "```\n",
    "\n",
    "**Adding a file**\n",
    "```bash\n",
    "git add filename\n",
    "git status\n",
    "```\n",
    "\n",
    "-add all files\n",
    "```bash\n",
    "git add .\n",
    "```\n",
    "\n",
    "**Committing a change**\n",
    "```bash\n",
    "git commit -m \"your comments\" filename\n",
    "```\n",
    "\n",
    "**Uploading changes to github**\n",
    "```bash\n",
    "git push\n",
    "```\n",
    "\n",
    "**Seeing log of changes**\n",
    "```bash\n",
    "git log\n",
    "```\n",
    "\n",
    "----"
   ]
  },
  {
   "cell_type": "markdown",
   "metadata": {
    "collapsed": true
   },
   "source": [
    "#### Let's add and remove a temporary file as a test:\n",
    "\n",
    "- Create a file and commit\n",
    "\n",
    "```bash\n",
    "echo '' > tmpfile\n",
    "```\n",
    "\n",
    "```bash\n",
    "git add tempfile\n",
    "git commit -m \"Created a tmpfile\" tmpfile\n",
    "```\n",
    "\n",
    "- Delete the file and commit\n",
    "\n",
    "```bash\n",
    "rm tmpfile\n",
    "```\n",
    "\n",
    "```bash\n",
    "git commit -m \"Deleted the tmpfile\" tmpfile\n",
    "```\n",
    "\n",
    "- Check the log\n",
    "\n",
    "```bash\n",
    "git log\n",
    "```\n",
    "\n",
    "- Checks just the most recent log item\n",
    "\n",
    "```bash\n",
    "git log -1\n",
    "```"
   ]
  },
  {
   "cell_type": "markdown",
   "metadata": {},
   "source": [
    "# Lecture 4  — Introduction to Python\n",
    "### January 11, 2017 (Morning)\n",
    "\n",
    "### Todo list—\n",
    "1. Clone Dario's Repository\n",
    "2. Command aliases\n",
    "3. Introduction to Python!\n",
    "\n",
    "## 1. Cloning Repositories\n",
    "\n",
    "```bash\n",
    "git clone http://www.github.com/darioflute/CS4A.git\n",
    "```\n",
    "\n",
    "- now cd into the folder\n",
    "```bash\n",
    "cd CS4A\n",
    "```\n",
    "\n",
    "- now try to update the repository\n",
    "- it should say \"up to date\"\n",
    "```bash\n",
    "git pull origin master\n",
    "```"
   ]
  },
  {
   "cell_type": "markdown",
   "metadata": {},
   "source": [
    "## 2. Command aliases\n",
    "\n",
    "```bash\n",
    "cd ~\n",
    "vim bash.rc\n",
    "```\n",
    "\n",
    "- add the line\n",
    "\n",
    "```bash\n",
    "alias jn = \"jupyter notebook\"\n",
    "```\n",
    "\n",
    "## 2. Introduction to Python"
   ]
  },
  {
   "cell_type": "code",
   "execution_count": null,
   "metadata": {
    "collapsed": true
   },
   "outputs": [],
   "source": []
  }
 ],
 "metadata": {
  "anaconda-cloud": {},
  "kernelspec": {
   "display_name": "Python [conda root]",
   "language": "python",
   "name": "conda-root-py"
  },
  "language_info": {
   "codemirror_mode": {
    "name": "ipython",
    "version": 2
   },
   "file_extension": ".py",
   "mimetype": "text/x-python",
   "name": "python",
   "nbconvert_exporter": "python",
   "pygments_lexer": "ipython2",
   "version": "2.7.12"
  }
 },
 "nbformat": 4,
 "nbformat_minor": 1
}
