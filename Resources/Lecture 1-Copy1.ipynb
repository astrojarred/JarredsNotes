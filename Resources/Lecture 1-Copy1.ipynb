{
 "cells": [
  {
   "cell_type": "markdown",
   "metadata": {
    "collapsed": true
   },
   "source": [
    "# Lecture 1\n",
    "### January 9, 2017 (Morning)\n",
    "\n",
    "### Todo list—\n",
    "1. Markdown introduction\n",
    "2. Writing code in Jupyter\n",
    "3. Basic UNIX Commands\n",
    "\n",
    "## 1. Markdown introduction"
   ]
  },
  {
   "cell_type": "markdown",
   "metadata": {},
   "source": [
    "- Use markdown when you just want something to appear as nice text.\n",
    "- Great reference on github\n",
    "  - https://github.com/adam-p/markdown-here/wiki/Markdown-Cheatsheet"
   ]
  },
  {
   "cell_type": "markdown",
   "metadata": {},
   "source": [
    "### Headers\n",
    "#Main Header\n",
    "##Sub-header\n",
    "###Smaller Header\n",
    "####Sub sub header\n",
    "#####teehee"
   ]
  },
  {
   "cell_type": "markdown",
   "metadata": {},
   "source": [
    "### Shortcuts\n",
    "\n",
    "**Esc+M** --> Markdown\n",
    "\n",
    "**Esc+Y** --> Code\n",
    "\n",
    "**Shift+Return** --> Execute cell\n"
   ]
  },
  {
   "cell_type": "markdown",
   "metadata": {},
   "source": [
    "### Formatting\n",
    "\n",
    "**bold**\n",
    "\n",
    "*italic*\n",
    "\n",
    "***bold italic***\n",
    "\n",
    "~~strikethrough~~"
   ]
  },
  {
   "cell_type": "markdown",
   "metadata": {},
   "source": [
    "### Lists\n",
    "\n",
    "- Item 1\n",
    "- Item 2\n",
    "- Item 3\n",
    "  * item 3a\n",
    "  * item 3b\n",
    "  "
   ]
  },
  {
   "cell_type": "markdown",
   "metadata": {},
   "source": [
    "### Mathematics\n",
    "- put between dollar signs\n",
    "\n",
    "$10^2$\n",
    "\n",
    "$\\log 12 * x$\n",
    "\n",
    "$(a+b)/c$\n",
    "\n",
    "$\\frac{1}{2}$"
   ]
  },
  {
   "cell_type": "markdown",
   "metadata": {},
   "source": [
    "### Block Quotes\n",
    "\n",
    "> This is a block quote"
   ]
  },
  {
   "cell_type": "markdown",
   "metadata": {},
   "source": [
    "### Tables\n",
    "\n",
    "Markdown | Less | Pretty\n",
    "--- | --- | ---\n",
    "*Still* | `renders` | **nicely**\n",
    "1 | 2 | 3\n",
    "\n",
    "\n",
    "\n",
    "| Tables        | Are           | Cool  |\n",
    "| ------------- |:-------------:| -----:|\n",
    "| col 3 is      | right-aligned | $1600 |\n",
    "| col 2 is      | centered      |   $12 |\n",
    "| zebra stripes | are neat      |    $1 |"
   ]
  },
  {
   "cell_type": "markdown",
   "metadata": {},
   "source": [
    "### Writing code\n",
    "\n",
    "- python example\n",
    "\n",
    "```python\n",
    "import sys\n",
    "```\n",
    "\n",
    "- bash example\n",
    "\n",
    "```bash\n",
    "cd /Home/....\n",
    "ls -l\n",
    "```\n",
    "\n",
    "\n",
    "\n",
    "\n"
   ]
  },
  {
   "cell_type": "markdown",
   "metadata": {},
   "source": [
    "# 2. Writing code in Jupyter\n",
    "\n",
    "- You can write bash also in here using the prefix \n",
    "  - %%bash\n",
    "- If you execute these it will print results!\n",
    "- See e.g. below"
   ]
  },
  {
   "cell_type": "code",
   "execution_count": 4,
   "metadata": {
    "collapsed": false
   },
   "outputs": [
    {
     "name": "stdout",
     "output_type": "stream",
     "text": [
      "Hello World\n"
     ]
    }
   ],
   "source": [
    "%%bash\n",
    "echo 'Hello World'"
   ]
  },
  {
   "cell_type": "code",
   "execution_count": 3,
   "metadata": {
    "collapsed": false
   },
   "outputs": [
    {
     "name": "stdout",
     "output_type": "stream",
     "text": [
      "jarredgreen\r\n"
     ]
    }
   ],
   "source": [
    "! whoami"
   ]
  },
  {
   "cell_type": "markdown",
   "metadata": {},
   "source": [
    "## 3. Basic UNIX Commands\n",
    "\n",
    "***Process code*** | ***Description*** | **Useful Arguements**\n",
    "---|---|---\n",
    "**ps -a** | shows all processes |\n",
    "**ps -u jarredgreen** | shows processes of my user and process numbers |\n",
    "**ps -u jarredgreen &#124; grep jup** | filters processes that contain \"jup\" and shows the process number |\n",
    "**kill -9 %i** | kills process #i |\n",
    "**bg** | runs a process in the background |\n",
    "**fg %i** | brings a process back to the forground |\n",
    "**whoami** | current user |\n",
    "**pwd** | shows current directory |\n",
    "**ls** | lists files in current directory | *-F* gives more details, *-a* shows hidden files too, *-t* orders by time, *-l* more info with privileges, \\*.filetype shows\n",
    "**cd /filepath** | change directory to filepath |\n",
    "**cd ..** | takes you to higher directory |\n",
    "**man 'command'** | shows instructions for 'command' |\n",
    "**mkdir 'folder name'** | creates a folder named 'folder name' |\n",
    "**rmdir 'folder'** | will remove empty folder |\n",
    "**mv** | moves a file or directory |\n",
    "**rm** | deletes a file |\n",
    "**history** | shows recent entries |\n",
    "**cp** | copies files | cp *.txt directory"
   ]
  },
  {
   "cell_type": "markdown",
   "metadata": {
    "collapsed": true
   },
   "source": [
    "# Lecture 2\n",
    "### January 9, 2017 (Afternoon)\n",
    "\n",
    "### Todo list—\n",
    "1. \n"
   ]
  },
  {
   "cell_type": "code",
   "execution_count": null,
   "metadata": {
    "collapsed": true
   },
   "outputs": [],
   "source": []
  }
 ],
 "metadata": {
  "anaconda-cloud": {},
  "kernelspec": {
   "display_name": "Python [conda root]",
   "language": "python",
   "name": "conda-root-py"
  },
  "language_info": {
   "codemirror_mode": {
    "name": "ipython",
    "version": 2
   },
   "file_extension": ".py",
   "mimetype": "text/x-python",
   "name": "python",
   "nbconvert_exporter": "python",
   "pygments_lexer": "ipython2",
   "version": "2.7.12"
  }
 },
 "nbformat": 4,
 "nbformat_minor": 1
}
